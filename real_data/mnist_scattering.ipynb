{
 "cells": [
  {
   "cell_type": "markdown",
   "metadata": {},
   "source": [
    "# Ridge regression on MNIST data and scattering transform features"
   ]
  },
  {
   "cell_type": "markdown",
   "metadata": {},
   "source": [
    "In this notebook, we give one example on how reproduce the learning curves of ridge regression on real data sets. In this example, we look at the following setting: \n",
    "- **Data:** $x^{\\mu}\\in\\mathbb{R}^{28 x 28}$ MNIST digits with labels $y^{\\mu}=1$ for even numbers, $y^{\\mu}=-1$ for odd numbers. Therefore, $D=28*28 = 784$.\n",
    "- **Student Feature:** The student features $\\varphi_{s}: \\mathbb{R}^{D}\\to \\mathbb{R}^{p}$ is taken to be a Scattering transform with parameters J=3, L=8 (see [arXiv: 1203.1513](https://arxiv.org/abs/1203.1513) for details). "
   ]
  },
  {
   "cell_type": "markdown",
   "metadata": {},
   "source": [
    "## Pre-processing data"
   ]
  },
  {
   "cell_type": "markdown",
   "metadata": {},
   "source": [
    "We will use `pyTorch` just as a convenient way to download data."
   ]
  },
  {
   "cell_type": "code",
   "execution_count": 1,
   "metadata": {},
   "outputs": [],
   "source": [
    "import numpy as np\n",
    "import pandas as pd\n",
    "import matplotlib.pyplot as plt\n",
    "\n",
    "import torchvision.datasets as datasets\n",
    "import torch"
   ]
  },
  {
   "cell_type": "markdown",
   "metadata": {},
   "source": [
    "First, let's define a pre-processing function that centers and normalises data."
   ]
  },
  {
   "cell_type": "code",
   "execution_count": 2,
   "metadata": {},
   "outputs": [],
   "source": [
    "def preprocess_data(dataset):\n",
    "    '''\n",
    "    Preprocess MNIST data set: \n",
    "    center, divide by global variance and assign labels +1 for even, -1 for odd digits.\n",
    "    \n",
    "    Args:\n",
    "        - pyTorch dataset\n",
    "    \n",
    "    Return:\n",
    "        - tuple (X,y) where both X and y are numpy arrays.\n",
    "    '''\n",
    "    n_samples, _, _ = dataset.data.shape\n",
    "    X = torch.clone(dataset.data).float()\n",
    "    y = torch.clone(dataset.targets).view(n_samples,).float()\n",
    "    \n",
    "    data, labels = [], []\n",
    "    # Extract digits and create labels\n",
    "    for k,label in enumerate(y):\n",
    "        if label in [0, 2, 4, 6, 8]:\n",
    "            data.append(X[k].numpy())\n",
    "            labels.append(1)\n",
    "        elif label in [1, 3, 5, 7, 9]:\n",
    "            data.append(X[k].numpy())\n",
    "            labels.append(-1)\n",
    "            \n",
    "    data = np.array(data)\n",
    "    data -= data.mean(axis=0)\n",
    "    data /= data.std()\n",
    "\n",
    "    return np.array(data), np.array(labels)"
   ]
  },
  {
   "cell_type": "markdown",
   "metadata": {},
   "source": [
    "Now let's download MNIST and apply our pre-processing function. Note that for simplicity here we are using the full MNIST training set as our universe. We could also take the training+test to have more samples."
   ]
  },
  {
   "cell_type": "code",
   "execution_count": 4,
   "metadata": {},
   "outputs": [],
   "source": [
    "# Load MNIST \n",
    "mnist = datasets.MNIST(root='data', train=True, download=True, transform=None)\n",
    "\n",
    "# Pre-process\n",
    "C, y = preprocess_data(mnist)"
   ]
  },
  {
   "cell_type": "markdown",
   "metadata": {},
   "source": [
    "## Going to feature space"
   ]
  },
  {
   "cell_type": "markdown",
   "metadata": {},
   "source": [
    "For the scattering transform, we will use the convenient out-of-the-box package `kymatio`, see https://www.kymat.io/ for the documentation."
   ]
  },
  {
   "cell_type": "code",
   "execution_count": 7,
   "metadata": {},
   "outputs": [],
   "source": [
    "from kymatio.sklearn import Scattering2D\n",
    "\n",
    "ntot, dx, dy = C.shape\n",
    "S = Scattering2D(shape=(dx,dy), J=3, L=8)"
   ]
  },
  {
   "cell_type": "markdown",
   "metadata": {},
   "source": [
    "We now project our data in feature space by applying the scattering transform, and flatten it. As discussed in the "
   ]
  },
  {
   "cell_type": "code",
   "execution_count": null,
   "metadata": {},
   "outputs": [],
   "source": [
    "# Data in feature spac\n",
    "V = S(C).reshape(ntot, -1)\n",
    "\n",
    "_, d = V.shape\n",
    "\n",
    "print('Feature space dimension: {}'.format(d))"
   ]
  },
  {
   "cell_type": "markdown",
   "metadata": {},
   "source": [
    "## Global variables"
   ]
  },
  {
   "cell_type": "markdown",
   "metadata": {},
   "source": [
    "As discussed in the manuscript, all linear teachers that separate the features are equivalent for ridge regression. Therefore, we can take the teacher features to be the full universe."
   ]
  },
  {
   "cell_type": "code",
   "execution_count": 12,
   "metadata": {},
   "outputs": [],
   "source": [
    "# teacher features\n",
    "p = ntot\n",
    "gamma = p/d\n",
    "\n",
    "# l2 regularisation parameter\n",
    "lamb = 0.01"
   ]
  },
  {
   "cell_type": "markdown",
   "metadata": {},
   "source": [
    "## Theoretical curves"
   ]
  },
  {
   "cell_type": "markdown",
   "metadata": {},
   "source": [
    "To get the theoretical learning curves, recall we need to provide:\n",
    "\n",
    "- Covariances $(\\Psi, \\Phi, \\Omega)$\n",
    "- Teacher weights $\\theta_{0}\\in\\mathbb{R}^{p}$\n",
    "\n",
    "However, as discussed in the manuscript, if we assume a linear teacher $y^{\\mu} = \\theta_{0}^{\\top}u^{\\mu}$ and we estimate the population covariances from the whole universe:\n",
    "\\begin{align}\n",
    "\\Psi = \\frac{1}{n_{tot}}\\sum\\limits_{\\mu=1}^{n_{tot}}u^{\\mu}{u^{\\mu}}^{\\top}, && \\Phi = \\frac{1}{n_{tot}}\\sum\\limits_{\\mu=1}^{n_{tot}}u^{\\mu}{v^{\\mu}}^{\\top}, && \\Omega = \\frac{1}{n_{tot}}\\sum\\limits_{\\mu=1}^{n_{tot}}u^{\\mu}{u^{\\mu}}^{\\top}\n",
    "\\end{align}\n",
    "\n",
    "It is easy to show that we can write:\n",
    "\\begin{align}\n",
    "\\rho = \\frac{1}{p}\\theta_{0}\\Psi \\theta_{0} = \\frac{1}{n_{tot}}\\sum\\limits_{\\mu=1}^{n_{tot}}(y^{\\mu})^2, && \\Phi^{\\top}\\theta_{0} = \\frac{1}{n_{tot}}\\sum\\limits_{\\mu=1}^{n_{tot}}y^{\\mu}v^{\\top}\n",
    "\\end{align}\n",
    "\n",
    "Since the saddle-point equations only require the quantities $(\\rho, \\omega_{i}, t_{i})$ (see notebook `how-to.ipynb`), the equation closes only on quantities that depend on the data only."
   ]
  },
  {
   "cell_type": "code",
   "execution_count": 14,
   "metadata": {},
   "outputs": [
    {
     "name": "stdout",
     "output_type": "stream",
     "text": [
      "Computing covariances\n"
     ]
    }
   ],
   "source": [
    "# Student-student covariance\n",
    "print('Computing covariances')\n",
    "Omega = V.T @ V / ntot # student-student"
   ]
  },
  {
   "cell_type": "code",
   "execution_count": 17,
   "metadata": {},
   "outputs": [
    {
     "name": "stdout",
     "output_type": "stream",
     "text": [
      "Computing rho\n",
      "Diagonalising the student-student covariance\n",
      "Projecting teacher-student correlation on student-student basis\n"
     ]
    }
   ],
   "source": [
    "print('Computing rho')\n",
    "rho = y.dot(y) / ntot\n",
    "\n",
    "print('Diagonalising the student-student covariance')\n",
    "spec_Omega, U = np.linalg.eigh(Omega)\n",
    "\n",
    "print('Projecting teacher-student correlation on student-student basis')\n",
    "diagUtPhiPhitU = np.diag(1/ntot * U.T @ V.T @ y.reshape(p,1) @ \n",
    "                         y.reshape(1,p) @ V @ U)"
   ]
  },
  {
   "cell_type": "markdown",
   "metadata": {},
   "source": [
    "We now have everything we need to run the saddle-point equations from the `state_evolution` package."
   ]
  },
  {
   "cell_type": "code",
   "execution_count": 22,
   "metadata": {},
   "outputs": [],
   "source": [
    "import sys\n",
    "sys.path.append(\"..\")\n",
    "\n",
    "from state_evolution.data_models.custom import CustomSpectra\n",
    "from state_evolution.experiments.learning_curve import CustomExperiment"
   ]
  },
  {
   "cell_type": "code",
   "execution_count": 24,
   "metadata": {},
   "outputs": [
    {
     "name": "stdout",
     "output_type": "stream",
     "text": [
      "Loading data model\n",
      "Loading experiment\n"
     ]
    }
   ],
   "source": [
    "print('Loading data model')\n",
    "data_model = CustomSpectra(gamma = gamma,\n",
    "                           rho = rho, \n",
    "                           spec_Omega = spec_Omega, \n",
    "                           diagonal_term = diagUtPhiPhitU)\n",
    "\n",
    "print('Loading experiment')\n",
    "experiment = CustomExperiment(task = 'ridge_regression', \n",
    "                              regularisation = lamb, \n",
    "                              data_model = data_model, \n",
    "                              tolerance = 1e-7, \n",
    "                              damping = 0.5, \n",
    "                              verbose = False, \n",
    "                              max_steps = 1000)"
   ]
  },
  {
   "cell_type": "code",
   "execution_count": 28,
   "metadata": {},
   "outputs": [],
   "source": [
    "sc_range = np.linspace(0.01, 3, 100) # sample complexity range\n",
    "experiment.learning_curve(alphas = sc_range)\n",
    "\n",
    "# Getting learning curve as pd.DataFrame\n",
    "theory = experiment.get_curve()"
   ]
  },
  {
   "cell_type": "markdown",
   "metadata": {},
   "source": [
    "Now let's check the result out:"
   ]
  },
  {
   "cell_type": "code",
   "execution_count": 32,
   "metadata": {},
   "outputs": [
    {
     "data": {
      "text/plain": [
       "<matplotlib.legend.Legend at 0x12b249a10>"
      ]
     },
     "execution_count": 32,
     "metadata": {},
     "output_type": "execute_result"
    },
    {
     "data": {
      "image/png": "[encoded data removed]",
      "text/plain": [
       "<Figure size 504x360 with 1 Axes>"
      ]
     },
     "metadata": {
      "needs_background": "light"
     },
     "output_type": "display_data"
    }
   ],
   "source": [
    "fig, ax = plt.subplots(figsize=(7,5))\n",
    "\n",
    "plt.title('Ridge regression on scattering features, MNIST odd vs even task.')\n",
    "\n",
    "theory.plot(x='sample_complexity', y='test_error', style='-', \n",
    "              ax=ax, label='Theory')\n",
    "\n",
    "plt.ylabel(r\"test error\")\n",
    "plt.xlabel(r\"sample complexity = n/p\")\n",
    "\n",
    "plt.legend()"
   ]
  },
  {
   "cell_type": "markdown",
   "metadata": {},
   "source": [
    "## Simulations"
   ]
  },
  {
   "cell_type": "markdown",
   "metadata": {},
   "source": [
    "For conciseness, have wrapped the main simulation modules on a single function `simulate` that takes the full features  matrix $V$. For details, check `simulation.py`"
   ]
  },
  {
   "cell_type": "code",
   "execution_count": 33,
   "metadata": {},
   "outputs": [],
   "source": [
    "from simulation import simulate"
   ]
  },
  {
   "cell_type": "code",
   "execution_count": 34,
   "metadata": {
    "scrolled": true
   },
   "outputs": [
    {
     "name": "stdout",
     "output_type": "stream",
     "text": [
      "Simulating\n",
      "Simulating sample complexity: 0.1\n",
      "Seed: 0\n",
      "Seed: 1\n",
      "Seed: 2\n",
      "Seed: 3\n",
      "Seed: 4\n",
      "Seed: 5\n",
      "Seed: 6\n",
      "Seed: 7\n",
      "Seed: 8\n",
      "Seed: 9\n",
      "Simulating sample complexity: 0.3666666666666667\n",
      "Seed: 0\n",
      "Seed: 1\n",
      "Seed: 2\n",
      "Seed: 3\n",
      "Seed: 4\n",
      "Seed: 5\n",
      "Seed: 6\n",
      "Seed: 7\n",
      "Seed: 8\n",
      "Seed: 9\n",
      "Simulating sample complexity: 0.6333333333333333\n",
      "Seed: 0\n",
      "Seed: 1\n",
      "Seed: 2\n",
      "Seed: 3\n",
      "Seed: 4\n",
      "Seed: 5\n",
      "Seed: 6\n",
      "Seed: 7\n",
      "Seed: 8\n",
      "Seed: 9\n",
      "Simulating sample complexity: 0.9\n",
      "Seed: 0\n",
      "Seed: 1\n",
      "Seed: 2\n",
      "Seed: 3\n",
      "Seed: 4\n",
      "Seed: 5\n",
      "Seed: 6\n",
      "Seed: 7\n",
      "Seed: 8\n",
      "Seed: 9\n",
      "Simulating sample complexity: 1.1666666666666667\n",
      "Seed: 0\n",
      "Seed: 1\n",
      "Seed: 2\n",
      "Seed: 3\n",
      "Seed: 4\n",
      "Seed: 5\n",
      "Seed: 6\n",
      "Seed: 7\n",
      "Seed: 8\n",
      "Seed: 9\n",
      "Simulating sample complexity: 1.4333333333333333\n",
      "Seed: 0\n",
      "Seed: 1\n",
      "Seed: 2\n",
      "Seed: 3\n",
      "Seed: 4\n",
      "Seed: 5\n",
      "Seed: 6\n",
      "Seed: 7\n",
      "Seed: 8\n",
      "Seed: 9\n",
      "Simulating sample complexity: 1.7000000000000002\n",
      "Seed: 0\n",
      "Seed: 1\n",
      "Seed: 2\n",
      "Seed: 3\n",
      "Seed: 4\n",
      "Seed: 5\n",
      "Seed: 6\n",
      "Seed: 7\n",
      "Seed: 8\n",
      "Seed: 9\n",
      "Simulating sample complexity: 1.9666666666666668\n",
      "Seed: 0\n",
      "Seed: 1\n",
      "Seed: 2\n",
      "Seed: 3\n",
      "Seed: 4\n",
      "Seed: 5\n",
      "Seed: 6\n",
      "Seed: 7\n",
      "Seed: 8\n",
      "Seed: 9\n",
      "Simulating sample complexity: 2.2333333333333334\n",
      "Seed: 0\n",
      "Seed: 1\n",
      "Seed: 2\n",
      "Seed: 3\n",
      "Seed: 4\n",
      "Seed: 5\n",
      "Seed: 6\n",
      "Seed: 7\n",
      "Seed: 8\n",
      "Seed: 9\n",
      "Simulating sample complexity: 2.5\n",
      "Seed: 0\n",
      "Seed: 1\n",
      "Seed: 2\n",
      "Seed: 3\n",
      "Seed: 4\n",
      "Seed: 5\n",
      "Seed: 6\n",
      "Seed: 7\n",
      "Seed: 8\n",
      "Seed: 9\n"
     ]
    }
   ],
   "source": [
    "print('Simulating')\n",
    "sim = simulate(sc_range = np.linspace(0.1, 2.5, 10),\n",
    "               X = V,\n",
    "               y = y,\n",
    "               task = 'regression',\n",
    "               loss = 'l2',\n",
    "               lamb = lamb, \n",
    "               seeds = 10)"
   ]
  },
  {
   "cell_type": "markdown",
   "metadata": {},
   "source": [
    "## Comparing simulations to theory"
   ]
  },
  {
   "cell_type": "markdown",
   "metadata": {},
   "source": [
    "Finally, let's compare simulation against theory by plotting them together."
   ]
  },
  {
   "cell_type": "code",
   "execution_count": 39,
   "metadata": {},
   "outputs": [
    {
     "data": {
      "text/html": [
       "<div>\n",
       "<style scoped>\n",
       "    .dataframe tbody tr th:only-of-type {\n",
       "        vertical-align: middle;\n",
       "    }\n",
       "\n",
       "    .dataframe tbody tr th {\n",
       "        vertical-align: top;\n",
       "    }\n",
       "\n",
       "    .dataframe thead th {\n",
       "        text-align: right;\n",
       "    }\n",
       "</style>\n",
       "<table border=\"1\" class=\"dataframe\">\n",
       "  <thead>\n",
       "    <tr style=\"text-align: right;\">\n",
       "      <th></th>\n",
       "      <th>test_error</th>\n",
       "      <th>train_error</th>\n",
       "      <th>test_error_std</th>\n",
       "      <th>train_error_std</th>\n",
       "      <th>lambda</th>\n",
       "      <th>sample_complexity</th>\n",
       "      <th>task</th>\n",
       "      <th>loss</th>\n",
       "    </tr>\n",
       "  </thead>\n",
       "  <tbody>\n",
       "    <tr>\n",
       "      <th>0</th>\n",
       "      <td>0.563790</td>\n",
       "      <td>0.514481</td>\n",
       "      <td>0.004755</td>\n",
       "      <td>0.027235</td>\n",
       "      <td>0.01</td>\n",
       "      <td>0.100000</td>\n",
       "      <td>regression</td>\n",
       "      <td>l2</td>\n",
       "    </tr>\n",
       "    <tr>\n",
       "      <th>1</th>\n",
       "      <td>0.432621</td>\n",
       "      <td>0.410876</td>\n",
       "      <td>0.005039</td>\n",
       "      <td>0.017449</td>\n",
       "      <td>0.01</td>\n",
       "      <td>0.366667</td>\n",
       "      <td>regression</td>\n",
       "      <td>l2</td>\n",
       "    </tr>\n",
       "    <tr>\n",
       "      <th>2</th>\n",
       "      <td>0.378062</td>\n",
       "      <td>0.366773</td>\n",
       "      <td>0.003487</td>\n",
       "      <td>0.011100</td>\n",
       "      <td>0.01</td>\n",
       "      <td>0.633333</td>\n",
       "      <td>regression</td>\n",
       "      <td>l2</td>\n",
       "    </tr>\n",
       "    <tr>\n",
       "      <th>3</th>\n",
       "      <td>0.344247</td>\n",
       "      <td>0.340167</td>\n",
       "      <td>0.002252</td>\n",
       "      <td>0.007724</td>\n",
       "      <td>0.01</td>\n",
       "      <td>0.900000</td>\n",
       "      <td>regression</td>\n",
       "      <td>l2</td>\n",
       "    </tr>\n",
       "    <tr>\n",
       "      <th>4</th>\n",
       "      <td>0.325868</td>\n",
       "      <td>0.313892</td>\n",
       "      <td>0.001694</td>\n",
       "      <td>0.010887</td>\n",
       "      <td>0.01</td>\n",
       "      <td>1.166667</td>\n",
       "      <td>regression</td>\n",
       "      <td>l2</td>\n",
       "    </tr>\n",
       "  </tbody>\n",
       "</table>\n",
       "</div>"
      ],
      "text/plain": [
       "   test_error  train_error  test_error_std  train_error_std  lambda  \\\n",
       "0    0.563790     0.514481        0.004755         0.027235    0.01   \n",
       "1    0.432621     0.410876        0.005039         0.017449    0.01   \n",
       "2    0.378062     0.366773        0.003487         0.011100    0.01   \n",
       "3    0.344247     0.340167        0.002252         0.007724    0.01   \n",
       "4    0.325868     0.313892        0.001694         0.010887    0.01   \n",
       "\n",
       "   sample_complexity        task loss  \n",
       "0           0.100000  regression   l2  \n",
       "1           0.366667  regression   l2  \n",
       "2           0.633333  regression   l2  \n",
       "3           0.900000  regression   l2  \n",
       "4           1.166667  regression   l2  "
      ]
     },
     "execution_count": 39,
     "metadata": {},
     "output_type": "execute_result"
    }
   ],
   "source": [
    "sim.head()"
   ]
  },
  {
   "cell_type": "code",
   "execution_count": 46,
   "metadata": {},
   "outputs": [
    {
     "data": {
      "text/plain": [
       "<matplotlib.legend.Legend at 0x12c01a950>"
      ]
     },
     "execution_count": 46,
     "metadata": {},
     "output_type": "execute_result"
    },
    {
     "data": {
      "image/png": "[encoded data removed]",
      "text/plain": [
       "<Figure size 504x360 with 2 Axes>"
      ]
     },
     "metadata": {
      "needs_background": "light"
     },
     "output_type": "display_data"
    }
   ],
   "source": [
    "fig, ax = plt.subplots(2,1, figsize=(7,5), sharex=True)\n",
    "\n",
    "# Test error\n",
    "theory.plot(x='sample_complexity', \n",
    "            y='test_error', \n",
    "            style='-', \n",
    "            ax=ax[0], \n",
    "            label='Theory')\n",
    "\n",
    "sim.plot(x='sample_complexity', \n",
    "         y='test_error', \n",
    "         style='.', \n",
    "         kind='scatter',\n",
    "         yerr = 'test_error_std', \n",
    "         ax=ax[0], \n",
    "         label='Simulation')\n",
    "\n",
    "theory.plot(x='sample_complexity', \n",
    "            y='train_loss', \n",
    "            style='-', \n",
    "            ax=ax[1], \n",
    "            legend=False)\n",
    "\n",
    "sim.plot(x='sample_complexity', \n",
    "         y='train_loss', \n",
    "         style='.', \n",
    "         kind='scatter',\n",
    "         yerr = 'train_loss_std', \n",
    "         ax=ax[1], \n",
    "         legend=False)\n",
    "\n",
    "\n",
    "ax[0].set_ylabel(r\"test mse\")\n",
    "ax[1].set_ylabel(r\"train mse\")\n",
    "\n",
    "plt.xlabel(r\"sample complexity = n/p\")\n",
    "\n",
    "ax[0].legend()"
   ]
  },
  {
   "cell_type": "code",
   "execution_count": null,
   "metadata": {},
   "outputs": [],
   "source": []
  }
 ],
 "metadata": {
  "kernelspec": {
   "display_name": "Python 3",
   "language": "python",
   "name": "python3"
  },
  "language_info": {
   "codemirror_mode": {
    "name": "ipython",
    "version": 3
   },
   "file_extension": ".py",
   "mimetype": "text/x-python",
   "name": "python",
   "nbconvert_exporter": "python",
   "pygments_lexer": "ipython3",
   "version": "3.7.4"
  }
 },
 "nbformat": 4,
 "nbformat_minor": 4
}
