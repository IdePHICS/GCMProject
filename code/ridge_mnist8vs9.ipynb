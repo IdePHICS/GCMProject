{
 "cells": [
  {
   "cell_type": "markdown",
   "metadata": {},
   "source": [
    "# Ridge regression on the G$^3$M model"
   ]
  },
  {
   "cell_type": "code",
   "execution_count": 32,
   "metadata": {},
   "outputs": [
    {
     "name": "stdout",
     "output_type": "stream",
     "text": [
      "The autoreload extension is already loaded. To reload it, use:\n",
      "  %reload_ext autoreload\n"
     ]
    }
   ],
   "source": [
    "import numpy as np\n",
    "import pandas as pd\n",
    "import matplotlib.pyplot as plt\n",
    "\n",
    "from scipy.special import erf\n",
    "from state_evolution.data_models.custom import CustomSpectra\n",
    "from state_evolution.experiments.learning_curve import CustomExperiment\n",
    "\n",
    "from simulation import ridge_estimator, simulate\n",
    "\n",
    "%load_ext autoreload\n",
    "%autoreload 2"
   ]
  },
  {
   "cell_type": "markdown",
   "metadata": {},
   "source": [
    "# Preliminaries"
   ]
  },
  {
   "cell_type": "markdown",
   "metadata": {},
   "source": [
    "## Theory"
   ]
  },
  {
   "cell_type": "markdown",
   "metadata": {},
   "source": [
    "### The G$^3$M model"
   ]
  },
  {
   "cell_type": "markdown",
   "metadata": {},
   "source": [
    "In this notebook we try to reproduce the learning curves for the classification of two MNIST digits with the G$^3$M model. Recall that in the G$^3$M we assume that:\n",
    "- Teacher: $y = \\frac{1}{\\sqrt{k}}z^{\\top}\\theta^{0}$ for $\\theta^{0}\\sim\\mathcal{N}(0,\\rm{I}_{k})$\n",
    "- Student: $\\hat{y} = \\frac{1}{\\sqrt{p}}x^{\\top}\\hat{w}$ for $\\hat{w}\\in\\mathbb{R}^{p}$.\n",
    "and the vectors $z\\in\\mathbb{R}^{k}$, $x\\in\\mathbb{R}^{k}$ are jointly Gaussian variables with covariances given by:\n",
    "\\begin{align}\n",
    "\\Psi = \\mathbb{E}zz^{\\top} \\in\\mathbb{R}^{k\\times k}, && \\Phi = \\mathbb{E}zx^{\\top} \\in\\mathbb{R}^{p\\times k}\n",
    "&&\\Omega = \\mathbb{E}xx^{\\top}\\in\\mathbb{R}^{p\\times p}\n",
    "\\end{align}\n",
    "and the weight vector $w$ is fitted by minimising the regularised empirical risk over $n$ independent samples from the teacher model $\\{x^{\\mu},y^{\\mu}\\}_{\\mu=1}^{n}$:\n",
    "\\begin{align}\n",
    "\\hat{w} = \\underset{w\\in\\mathbb{R}^{p}}{\\rm{argmin}}\\left[\\frac{1}{2}\\sum\\limits_{\\mu=1}^{n}\\left(\\frac{1}{\\sqrt{k}}z^{\\mu}\\cdot \\theta^{0}-\\frac{1}{\\sqrt{p}}x^{\\mu}\\cdot w\\right)^2+\\frac{\\lambda}{2}||w||^2_{2}\\right]\n",
    "\\end{align}\n",
    "This task is particularly simple since wee have a closed form solution for the estimator minimising the empirical risk:\n",
    "\\begin{align}\n",
    "\\hat{w} = \n",
    "\\begin{cases}\n",
    "\\left(\\lambda\\text{I}_{p}+X^{\\top}X\\right)^{-1}X^{\\top}y & \\text{ for } p \\leq n \\\\\n",
    "X^{\\top}\\left(\\lambda\\text{I}_{n}+XX^{\\top}\\right)^{-1}y & \\text{ for } p > n\n",
    "\\end{cases}\n",
    "\\end{align}"
   ]
  },
  {
   "cell_type": "markdown",
   "metadata": {},
   "source": [
    "### Applying to real data"
   ]
  },
  {
   "cell_type": "markdown",
   "metadata": {},
   "source": [
    "With real data, we have only access to a dataset $\\{c^{\\mu},y^{\\mu}\\}_{\\mu=1}^{n_{tot}}$ where $n_{tot}$ denotes the total number of samples, i.e. the sum of training and test samples in the data set. Note that we have no guarantee that the labels $y^{\\mu}$ were generated from a linear model. One idea is to use a feature map $\\Phi:\\mathbb{R}^{d}\\to\\mathbb{R}^{k}$ to map the data $z^{\\mu} = \\Phi(c^{\\mu})$ to a space in which it is linearly separable and that allow us to estimate teacher weights $\\theta^{*}$. \n",
    "\n",
    "**Covariances:** In the G$^3$M model, the covariances are *population covariances*. The best we can do to approximate them is to estimate from the total number of samples $n_{tot}$:\n",
    "\\begin{align}\n",
    "\\Psi = \\frac{1}{n_{tot}}Z^{\\top}Z, && \\Phi = \\frac{1}{n_{tot}} X^{\\top}Z\n",
    "&&\\Omega = \\frac{1}{n_{tot}}X^{\\top}X\n",
    "\\end{align}\n",
    "which converge to the population covariances when $n_{tot}\\to\\infty$.\n",
    "\n",
    "**Teacher weights:**  Letting $C \\in\\mathbb{R}^{n_{tot}\\times d}$ be the original data matrix and letting $Z=\\Phi(X)\\in\\mathbb{R}^{n_{tot}\\times k}$, we can invert the teacher equation to get the teacher weights $\\theta^{\\star}$:\n",
    "\\begin{align}\n",
    "\\theta^{\\star} = Z^{\\dagger}y = \\begin{cases}(Z^{\\top}Z)^{-1}Z^{\\top}y & \\text{ if } n_{tot} \\geq k \\\\ \n",
    "Z(ZZ^{\\top})^{-1}y & \\text{ if } n_{tot} < k \n",
    "\\end{cases}\n",
    "\\end{align}\n",
    "where $Z^{\\dagger}\\in\\mathbb{R}^{k\\times n_{tot}}$ is the pseudo-inverse of $Z$. Note that in the second equality we assumed that $rank(Z) = \\rm{min}(k,n_{tot})$ (which is true in particular with high-probability in the random projection case).\n",
    "\n",
    "Note that in this case the teacher weight $\\theta^{\\star}\\in\\mathbb{R}^{k}$ is fixed, while in the G$^3$M model it is a Gaussian vector. This is not a problem: we can map one to another by redefining:\n",
    "\\begin{align}\n",
    "\\tilde{\\Phi}\\tilde{\\Phi}^{\\top} = \\Phi\\theta^{\\star}{\\theta^{\\star}}^{\\top}\\Phi^{\\top}.\n",
    "\\end{align}\n",
    "and noting that the dependence of the replicas on $\\Psi$ is given by:\n",
    "\\begin{align}\n",
    "\\rho = \\frac{1}{k}{\\theta^{\\star}}^{\\top}\\Psi\\theta^{\\star}\n",
    "\\end{align}\n"
   ]
  },
  {
   "cell_type": "markdown",
   "metadata": {},
   "source": [
    "### Random Features"
   ]
  },
  {
   "cell_type": "markdown",
   "metadata": {},
   "source": [
    "The simples example of feature map are random features:\n",
    "\\begin{align}\n",
    "\\Phi(c) = \\sigma\\left(\\frac{1}{\\sqrt{d}}Fc\\right)\n",
    "\\end{align}\n",
    "where $F\\in\\mathbb{R}^{k\\times d}$ is a random Gaussian matrix and $\\sigma$ a component-wise acting real function. This is convenient because when $k\\to \\infty$ Mercer's theorem tell us that:\n",
    "\\begin{align}\n",
    "\\frac{1}{k}\\mathbb{E}_{F}\\left[\\Phi(c)^{\\top}\\Phi(c')\\right]\\underset{k\\to\\infty}{\\to} K(c,c')\n",
    "\\end{align}\n",
    "for some Kernel $K$ that depends on the choice of $\\sigma$. \n",
    "\n",
    "In this notebook, we will analyse the case where we use RF both for the teacher and student."
   ]
  },
  {
   "cell_type": "markdown",
   "metadata": {},
   "source": [
    "# Experiments"
   ]
  },
  {
   "cell_type": "markdown",
   "metadata": {},
   "source": [
    "## Pre-processing the data"
   ]
  },
  {
   "cell_type": "code",
   "execution_count": 2,
   "metadata": {},
   "outputs": [],
   "source": [
    "import torchvision.datasets as datasets\n",
    "import torch"
   ]
  },
  {
   "cell_type": "code",
   "execution_count": 7,
   "metadata": {},
   "outputs": [],
   "source": [
    "def preprocess_data(dataset):\n",
    "    '''\n",
    "    Take the pyTorch MNIST dataset, flatten the 28x28 images in a 784 dimensional\n",
    "    array, center the data and divide by the global standard deviation.\n",
    "\n",
    "    Then select only 8 and 9 digits and assign them {-1,+1} labels.\n",
    "    '''\n",
    "    n, d_x, d_y = dataset.data.shape\n",
    "    d = d_x * d_y\n",
    "    X = torch.clone(dataset.data).reshape(n,d).float() # flatten\n",
    "    y = torch.clone(dataset.targets).view(n,).float()\n",
    "    \n",
    "    X -= X.mean(dim=0) # center\n",
    "    X /= X.std() # normalise by global std\n",
    "    \n",
    "    data, labels = [], []\n",
    "\n",
    "    # Extract digits and create labels\n",
    "    for k,label in enumerate(y):\n",
    "        if label == 8:\n",
    "            data.append(X[k].numpy())\n",
    "            labels.append(1)\n",
    "        elif label == 9:\n",
    "            data.append(X[k].numpy())\n",
    "            labels.append(-1)\n",
    "\n",
    "    return np.array(data), np.array(labels)"
   ]
  },
  {
   "cell_type": "code",
   "execution_count": 4,
   "metadata": {},
   "outputs": [],
   "source": [
    "# Load MNIST \n",
    "mnist_testset = datasets.MNIST(root='data', train=False, \n",
    "                               download=True, transform=None)\n",
    "\n",
    "mnist_trainset= datasets.MNIST(root='data', train=True, \n",
    "                               download=True, transform=None)\n",
    "\n",
    "# Pre-process\n",
    "X_train, y_train = preprocess_data(mnist_trainset)\n",
    "X_test, y_test = preprocess_data(mnist_testset)\n",
    "\n",
    "# Join in a single dataset\n",
    "C, y = (np.concatenate((X_train, X_test), axis=0 ), \n",
    "        np.concatenate((y_train, y_test), axis=0))"
   ]
  },
  {
   "cell_type": "markdown",
   "metadata": {},
   "source": [
    "## Global Variables"
   ]
  },
  {
   "cell_type": "code",
   "execution_count": 5,
   "metadata": {},
   "outputs": [],
   "source": [
    "# Dimensions\n",
    "n_tot, d = C.shape\n",
    "k = n_tot\n",
    "p = int(3*d)\n",
    "\n",
    "# Regularisation\n",
    "lamb = 0.01\n",
    "\n",
    "# Ratio between teacher-student features\n",
    "gamma = k/p\n",
    "\n",
    "# Projections\n",
    "F_teacher = np.random.normal(0,1, (k,d)) / np.sqrt(d) # Teacher projection\n",
    "F_student = np.random.normal(0,1, (p,d)) / np.sqrt(d) # Student projection\n",
    "\n",
    "# Projected data\n",
    "Z = erf(C @ F_teacher.T)\n",
    "X = erf(C @ F_student.T)"
   ]
  },
  {
   "cell_type": "markdown",
   "metadata": {},
   "source": [
    "## Replicas "
   ]
  },
  {
   "cell_type": "markdown",
   "metadata": {},
   "source": [
    "First, we need estimate the covariance matrices and the teacher vector."
   ]
  },
  {
   "cell_type": "code",
   "execution_count": 8,
   "metadata": {},
   "outputs": [
    {
     "name": "stdout",
     "output_type": "stream",
     "text": [
      "Computing covariances\n",
      "Computing teacher weights\n"
     ]
    }
   ],
   "source": [
    "# Covariances\n",
    "print('Computing covariances')\n",
    "Omega = X.T @ X / n_tot # student-student\n",
    "Phi = X.T @ Z / n_tot # student-teacher\n",
    "Psi = Z.T @ Z / n_tot # teacher-teacher\n",
    "\n",
    "# Teacher weights\n",
    "print('Computing teacher weights')\n",
    "teacher = ridge_estimator(Z/np.sqrt(k), y, lamb=0) # pseudo-inverse estimator"
   ]
  },
  {
   "cell_type": "markdown",
   "metadata": {},
   "source": [
    "Then, we compute the quantities needed for the replicas"
   ]
  },
  {
   "cell_type": "code",
   "execution_count": 9,
   "metadata": {},
   "outputs": [],
   "source": [
    "print('Computing rho')\n",
    "rho = teacher.dot(Psi @ teacher) / k\n",
    "\n",
    "print('Diagonalising the student-student covariance')\n",
    "spec_Omega, U = np.linalg.eigh(Omega)\n",
    "\n",
    "print('Projecting teacher-student correlation on student-student basis')\n",
    "diagUtPhiPhitU = np.diag(U.T @ Phi @ teacher.reshape(k,1) @ \n",
    "                         teacher.reshape(1,k) @ Phi.T @ U)"
   ]
  },
  {
   "cell_type": "markdown",
   "metadata": {},
   "source": [
    "Now we initialise our data model"
   ]
  },
  {
   "cell_type": "code",
   "execution_count": 19,
   "metadata": {},
   "outputs": [
    {
     "name": "stdout",
     "output_type": "stream",
     "text": [
      "Loading data model\n",
      "Loading experiment\n"
     ]
    }
   ],
   "source": [
    "print('Loading data model')\n",
    "data_model = CustomSpectra(gamma = gamma,\n",
    "                           rho = rho, \n",
    "                           spec_Omega = spec_Omega, \n",
    "                           spec_UPhiPhitUT = diagUtPhiPhitU)\n",
    "\n",
    "print('Loading experiment')\n",
    "experiment = CustomExperiment(task = 'ridge_regression', \n",
    "                              regularisation = lamb, \n",
    "                              data_model = data_model, \n",
    "                              tolerance = 1e-7, \n",
    "                              damping = 0.5, \n",
    "                              verbose = False, \n",
    "                              max_steps = 1000)"
   ]
  },
  {
   "cell_type": "markdown",
   "metadata": {},
   "source": [
    "Now let's compute the learning curve"
   ]
  },
  {
   "cell_type": "code",
   "execution_count": 26,
   "metadata": {},
   "outputs": [],
   "source": [
    "alphas = np.linspace(0.01, 3, 100)\n",
    "experiment.learning_curve(alphas = alphas)"
   ]
  },
  {
   "cell_type": "markdown",
   "metadata": {},
   "source": [
    "We can now get the learning curve as a pandas dataframe"
   ]
  },
  {
   "cell_type": "code",
   "execution_count": 27,
   "metadata": {},
   "outputs": [],
   "source": [
    "replicas = experiment.get_curve()"
   ]
  },
  {
   "cell_type": "markdown",
   "metadata": {},
   "source": [
    "## Simulations"
   ]
  },
  {
   "cell_type": "code",
   "execution_count": 35,
   "metadata": {
    "scrolled": true
   },
   "outputs": [
    {
     "name": "stdout",
     "output_type": "stream",
     "text": [
      "Simulating with no trick\n",
      "Simulating sample complexity: 0.1\n",
      "Seed: 0\n",
      "Seed: 1\n",
      "Seed: 2\n",
      "Seed: 3\n",
      "Seed: 4\n",
      "Seed: 5\n",
      "Seed: 6\n",
      "Seed: 7\n",
      "Seed: 8\n",
      "Seed: 9\n",
      "Simulating sample complexity: 0.3666666666666667\n",
      "Seed: 0\n",
      "Seed: 1\n",
      "Seed: 2\n",
      "Seed: 3\n",
      "Seed: 4\n",
      "Seed: 5\n",
      "Seed: 6\n",
      "Seed: 7\n",
      "Seed: 8\n",
      "Seed: 9\n",
      "Simulating sample complexity: 0.6333333333333333\n",
      "Seed: 0\n",
      "Seed: 1\n",
      "Seed: 2\n",
      "Seed: 3\n",
      "Seed: 4\n",
      "Seed: 5\n",
      "Seed: 6\n",
      "Seed: 7\n",
      "Seed: 8\n",
      "Seed: 9\n",
      "Simulating sample complexity: 0.9\n",
      "Seed: 0\n",
      "Seed: 1\n",
      "Seed: 2\n",
      "Seed: 3\n",
      "Seed: 4\n",
      "Seed: 5\n",
      "Seed: 6\n",
      "Seed: 7\n",
      "Seed: 8\n",
      "Seed: 9\n",
      "Simulating sample complexity: 1.1666666666666667\n",
      "Seed: 0\n",
      "Seed: 1\n",
      "Seed: 2\n",
      "Seed: 3\n",
      "Seed: 4\n",
      "Seed: 5\n",
      "Seed: 6\n",
      "Seed: 7\n",
      "Seed: 8\n",
      "Seed: 9\n",
      "Simulating sample complexity: 1.4333333333333333\n",
      "Seed: 0\n",
      "Seed: 1\n",
      "Seed: 2\n",
      "Seed: 3\n",
      "Seed: 4\n",
      "Seed: 5\n",
      "Seed: 6\n",
      "Seed: 7\n",
      "Seed: 8\n",
      "Seed: 9\n",
      "Simulating sample complexity: 1.7000000000000002\n",
      "Seed: 0\n",
      "Seed: 1\n",
      "Seed: 2\n",
      "Seed: 3\n",
      "Seed: 4\n",
      "Seed: 5\n",
      "Seed: 6\n",
      "Seed: 7\n",
      "Seed: 8\n",
      "Seed: 9\n",
      "Simulating sample complexity: 1.9666666666666668\n",
      "Seed: 0\n",
      "Seed: 1\n",
      "Seed: 2\n",
      "Seed: 3\n",
      "Seed: 4\n",
      "Seed: 5\n",
      "Seed: 6\n",
      "Seed: 7\n",
      "Seed: 8\n",
      "Seed: 9\n",
      "Simulating sample complexity: 2.2333333333333334\n",
      "Seed: 0\n",
      "Seed: 1\n",
      "Seed: 2\n",
      "Seed: 3\n",
      "Seed: 4\n",
      "Seed: 5\n",
      "Seed: 6\n",
      "Seed: 7\n",
      "Seed: 8\n",
      "Seed: 9\n",
      "Simulating sample complexity: 2.5\n",
      "Seed: 0\n",
      "Seed: 1\n",
      "Seed: 2\n",
      "Seed: 3\n",
      "Seed: 4\n",
      "Seed: 5\n",
      "Seed: 6\n",
      "Seed: 7\n",
      "Seed: 8\n",
      "Seed: 9\n",
      "Simulating with trick\n",
      "Simulating sample complexity: 0.1\n",
      "Seed: 0\n",
      "Seed: 1\n",
      "Seed: 2\n",
      "Seed: 3\n",
      "Seed: 4\n",
      "Seed: 5\n",
      "Seed: 6\n",
      "Seed: 7\n",
      "Seed: 8\n",
      "Seed: 9\n",
      "Simulating sample complexity: 0.3666666666666667\n",
      "Seed: 0\n",
      "Seed: 1\n",
      "Seed: 2\n",
      "Seed: 3\n",
      "Seed: 4\n",
      "Seed: 5\n",
      "Seed: 6\n",
      "Seed: 7\n",
      "Seed: 8\n",
      "Seed: 9\n",
      "Simulating sample complexity: 0.6333333333333333\n",
      "Seed: 0\n",
      "Seed: 1\n",
      "Seed: 2\n",
      "Seed: 3\n",
      "Seed: 4\n",
      "Seed: 5\n",
      "Seed: 6\n",
      "Seed: 7\n",
      "Seed: 8\n",
      "Seed: 9\n",
      "Simulating sample complexity: 0.9\n",
      "Seed: 0\n",
      "Seed: 1\n",
      "Seed: 2\n",
      "Seed: 3\n",
      "Seed: 4\n",
      "Seed: 5\n",
      "Seed: 6\n",
      "Seed: 7\n",
      "Seed: 8\n",
      "Seed: 9\n",
      "Simulating sample complexity: 1.1666666666666667\n",
      "Seed: 0\n",
      "Seed: 1\n",
      "Seed: 2\n",
      "Seed: 3\n",
      "Seed: 4\n",
      "Seed: 5\n",
      "Seed: 6\n",
      "Seed: 7\n",
      "Seed: 8\n",
      "Seed: 9\n",
      "Simulating sample complexity: 1.4333333333333333\n",
      "Seed: 0\n",
      "Seed: 1\n",
      "Seed: 2\n",
      "Seed: 3\n",
      "Seed: 4\n",
      "Seed: 5\n",
      "Seed: 6\n",
      "Seed: 7\n",
      "Seed: 8\n",
      "Seed: 9\n",
      "Simulating sample complexity: 1.7000000000000002\n",
      "Seed: 0\n",
      "Seed: 1\n",
      "Seed: 2\n",
      "Seed: 3\n",
      "Seed: 4\n",
      "Seed: 5\n",
      "Seed: 6\n",
      "Seed: 7\n",
      "Seed: 8\n",
      "Seed: 9\n",
      "Simulating sample complexity: 1.9666666666666668\n",
      "Seed: 0\n",
      "Seed: 1\n",
      "Seed: 2\n",
      "Seed: 3\n",
      "Seed: 4\n",
      "Seed: 5\n",
      "Seed: 6\n",
      "Seed: 7\n",
      "Seed: 8\n",
      "Seed: 9\n",
      "Simulating sample complexity: 2.2333333333333334\n",
      "Seed: 0\n",
      "Seed: 1\n",
      "Seed: 2\n",
      "Seed: 3\n",
      "Seed: 4\n",
      "Seed: 5\n",
      "Seed: 6\n",
      "Seed: 7\n",
      "Seed: 8\n",
      "Seed: 9\n",
      "Simulating sample complexity: 2.5\n",
      "Seed: 0\n",
      "Seed: 1\n",
      "Seed: 2\n",
      "Seed: 3\n",
      "Seed: 4\n",
      "Seed: 5\n",
      "Seed: 6\n",
      "Seed: 7\n",
      "Seed: 8\n",
      "Seed: 9\n"
     ]
    }
   ],
   "source": [
    "print('Simulating with no trick')\n",
    "sim_mnist_notrick = simulate(sc_range = np.linspace(0.1, 2.5, 10),\n",
    "                             X = X,\n",
    "                             y = y,\n",
    "                             task = 'regression',\n",
    "                             loss = 'l2',\n",
    "                             lamb = lamb, \n",
    "                             seeds = 10, \n",
    "                             trick=False)\n",
    "\n",
    "print('Simulating with trick')\n",
    "sim_mnist_trick = simulate(sc_range = np.linspace(0.1, 2.5, 10),\n",
    "                           X = X,\n",
    "                           y = y,\n",
    "                           task = 'regression',\n",
    "                           loss = 'l2',\n",
    "                           lamb = lamb, \n",
    "                           seeds = 10, \n",
    "                           trick=True)"
   ]
  },
  {
   "cell_type": "markdown",
   "metadata": {},
   "source": [
    "## Plots"
   ]
  },
  {
   "cell_type": "code",
   "execution_count": 36,
   "metadata": {},
   "outputs": [
    {
     "data": {
      "text/plain": [
       "<matplotlib.legend.Legend at 0x131743090>"
      ]
     },
     "execution_count": 36,
     "metadata": {},
     "output_type": "execute_result"
    },
    {
     "data": {
      "image/png": "[encoded data removed]",
      "text/plain": [
       "<Figure size 1080x360 with 1 Axes>"
      ]
     },
     "metadata": {
      "needs_background": "light"
     },
     "output_type": "display_data"
    }
   ],
   "source": [
    "fig, ax = plt.subplots(figsize=(15,5))\n",
    "\n",
    "plt.title('Ridge regression on synthetic RF data.')\n",
    "\n",
    "replicas.plot(x='sample_complexity', y='test_error', style='-', \n",
    "              ax=ax, label='Replicas')\n",
    "\n",
    "sim_mnist_notrick.plot(x='sample_complexity', y='test_error', style='.', \n",
    "                           kind='scatter',  c='r', yerr='test_error_std', ax=ax,\n",
    "                           label='Simulation, no trick')\n",
    "\n",
    "sim_mnist_trick.plot(x='sample_complexity', y='test_error', style='.', \n",
    "                         kind='scatter',  c='g', yerr='test_error_std', ax=ax,\n",
    "                         label='Simulation, with trick')\n",
    "\n",
    "plt.ylabel(r\"test error\")\n",
    "plt.xlabel(r\"sample complexity = n/p\")\n",
    "\n",
    "plt.legend()"
   ]
  },
  {
   "cell_type": "code",
   "execution_count": 37,
   "metadata": {},
   "outputs": [
    {
     "data": {
      "text/plain": [
       "<matplotlib.legend.Legend at 0x111a32dd0>"
      ]
     },
     "execution_count": 37,
     "metadata": {},
     "output_type": "execute_result"
    },
    {
     "data": {
      "image/png": "[encoded data removed]",
      "text/plain": [
       "<Figure size 1080x360 with 1 Axes>"
      ]
     },
     "metadata": {
      "needs_background": "light"
     },
     "output_type": "display_data"
    }
   ],
   "source": [
    "fig, ax = plt.subplots(figsize=(15,5))\n",
    "\n",
    "plt.title('Ridge regression on synthetic RF data.')\n",
    "\n",
    "replicas.plot(x='sample_complexity', y='train_loss', style='-', \n",
    "              ax=ax, label='Replicas')\n",
    "\n",
    "sim_mnist_notrick.plot(x='sample_complexity', y='train_error', style='.', \n",
    "                           kind='scatter',  c='r', yerr='test_error_std', ax=ax,\n",
    "                           label='Simulation, no trick')\n",
    "\n",
    "sim_mnist_trick.plot(x='sample_complexity', y='train_error', style='.', \n",
    "                         kind='scatter',  c='g', yerr='test_error_std', ax=ax,\n",
    "                         label='Simulation, with trick')\n",
    "\n",
    "plt.ylabel(r\"test error\")\n",
    "plt.xlabel(r\"sample complexity = n/p\")\n",
    "\n",
    "plt.legend()"
   ]
  },
  {
   "cell_type": "code",
   "execution_count": null,
   "metadata": {},
   "outputs": [],
   "source": []
  }
 ],
 "metadata": {
  "kernelspec": {
   "display_name": "Python 3",
   "language": "python",
   "name": "python3"
  },
  "language_info": {
   "codemirror_mode": {
    "name": "ipython",
    "version": 3
   },
   "file_extension": ".py",
   "mimetype": "text/x-python",
   "name": "python",
   "nbconvert_exporter": "python",
   "pygments_lexer": "ipython3",
   "version": "3.7.4"
  }
 },
 "nbformat": 4,
 "nbformat_minor": 4
}
