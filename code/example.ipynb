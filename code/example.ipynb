{
 "cells": [
  {
   "cell_type": "code",
   "execution_count": 1,
   "metadata": {},
   "outputs": [],
   "source": [
    "import numpy as np\n",
    "import matplotlib.pyplot as plt\n",
    "import pandas as pd"
   ]
  },
  {
   "cell_type": "markdown",
   "metadata": {},
   "source": [
    "# How to use the state evolution package"
   ]
  },
  {
   "cell_type": "markdown",
   "metadata": {},
   "source": [
    "Let's look at a simple example of how to use the state evolution package with custom teacher-student covariance rmrices. The class has three components:\n",
    "- `data_model`: this class defines everything concerning the generative model for data - i.e. it initialises the covariances $\\Psi, \\Phi, \\Omega$ and pre-computes all the quantities required for the state evolution.\n",
    "- `model`: this class defines the task. It basically contains the updates for the overlaps and their conjugates. So far, we have implemented ridge and logistic regression.\n",
    "- `algorithms`: this class defines the iterator for the state evolution."
   ]
  },
  {
   "cell_type": "code",
   "execution_count": 2,
   "metadata": {},
   "outputs": [],
   "source": [
    "from state_evolution.models.logistic_regression import LogisticRegression # logistic regression task\n",
    "from state_evolution.algorithms.state_evolution import StateEvolution # Standard SP iteration"
   ]
  },
  {
   "cell_type": "markdown",
   "metadata": {},
   "source": [
    "## Example 1: custom data model"
   ]
  },
  {
   "cell_type": "markdown",
   "metadata": {},
   "source": [
    "Let's look at a simple example where we input the covariances."
   ]
  },
  {
   "cell_type": "code",
   "execution_count": 3,
   "metadata": {},
   "outputs": [],
   "source": [
    "from state_evolution.data_models.custom import Custom # Custom data model. You input the covariances"
   ]
  },
  {
   "cell_type": "markdown",
   "metadata": {},
   "source": [
    "Recall that the G$^3$M is defined by a teacher-student model with:\n",
    "- Teacher : $y = f^{0}(\\theta^{0}\\cdot z)$, $\\theta^{0}\\sim\\mathcal{N}(0,\\rm{I}_{k})$\n",
    "- Student : $\\hat{y} = \\hat{f}(w\\cdot x)$\n",
    "where $z\\in\\mathbb{R}^{k}$ and $x\\in\\mathbb{R}^{p}$ are jointly Gaussian variables with covariances\n",
    "$$ \\Psi = \\mathbb{E}zz^{\\top}\\in\\mathbb{R}^{k\\times k}, \\qquad \\Phi = \\mathbb{E}xz^{\\top}\\in\\mathbb{R}^{p\\times k}, \\qquad \\Omega = \\mathbb{E}xx^{\\top}\\in\\mathbb{R}^{p\\times p}\n",
    "$$.\n",
    "\n",
    "The class `Custom` takes as input the three covariance matrices that define a G$^3$M. "
   ]
  },
  {
   "cell_type": "markdown",
   "metadata": {},
   "source": [
    "As an example, let's look at a simple model where both the teacher and student come from a hidden-manifold model with different dimensions and activation functions:\n",
    "$$\n",
    "z = \\rm{sign}\\left(\\frac{1}{\\sqrt{d}}\\bar{\\rm{F}}c\\right), \\qquad x = \\rm{erf}\\left(\\frac{1}{\\sqrt{d}}\\rm{F}c\\right), \\qquad c\\sim\\mathcal{N}(0,\\rm{I}_{d})\n",
    "$$\n",
    "\n",
    "In this case, recall that the covariances can be computed analytically, and are given by:\n",
    "\n",
    " \\begin{align}\n",
    " \\Psi = \\bar{\\kappa}_{1}^2 \\bar{\\rm{F}}\\bar{\\rm{F}}^{\\top}+\\bar{\\kappa}_{\\star}^2\\rm{I}_{k}, && \\Phi = \\bar{\\kappa}_{1}\\kappa_{1} \\rm{F}\\bar{\\rm{F}}^{\\top}, && \\Omega = \\kappa_{1}^2 \\rm{F}\\rm{F}^{\\top}+\\kappa_{\\star}^2\\rm{I}_{p}\n",
    " \\end{align}\n",
    " \n",
    "with $\\kappa_{1} \\equiv \\mathbb{E}\\left[\\xi\\sigma(\\xi)\\right]$ and $\\kappa_{\\star}^2 \\equiv \\mathbb{E}\\left[\\sigma(\\xi)\\right]^2-\\kappa_{1}^2$ for $\\xi\\sim\\mathcal{N}(0,1)$ (idem for the bar). "
   ]
  },
  {
   "cell_type": "code",
   "execution_count": 4,
   "metadata": {},
   "outputs": [],
   "source": [
    "COEFICIENTS = {'relu': (1/np.sqrt(2*np.pi), 0.5, np.sqrt((np.pi-2)/(4*np.pi))), \n",
    "               'erf': (0, 2/np.sqrt(3*np.pi), 0.200364), 'tanh': (0, 0.605706, 0.165576),\n",
    "               'sign': (0, np.sqrt(2/np.pi), np.sqrt(1-2/np.pi))}"
   ]
  },
  {
   "cell_type": "code",
   "execution_count": 5,
   "metadata": {},
   "outputs": [],
   "source": [
    "d = 1000 # dimension of c\n",
    "p = 2000 # dimension of x\n",
    "k = 1000 # dimension of k\n",
    "\n",
    "F_teacher = np.random.normal(0,1, (d,k)) / np.sqrt(d) # teacher projection\n",
    "F_student = np.random.normal(0,1, (d,p)) / np.sqrt(d) # student proojection\n",
    "\n",
    "# Coefficients\n",
    "_, kappa1_teacher, kappastar_teacher = COEFICIENTS['sign']\n",
    "_, kappa1_student, kappastar_student = COEFICIENTS['erf']\n",
    "\n",
    "# Covariances\n",
    "Psi = (kappa1_teacher**2 * F_teacher.T @ F_teacher + kappastar_teacher**2 * np.identity(k))\n",
    "Omega = (kappa1_student**2 * F_student.T @ F_student + kappastar_student**2 * np.identity(p))\n",
    "Phi = kappa1_teacher * kappa1_student * F_student.T @ F_teacher"
   ]
  },
  {
   "cell_type": "markdown",
   "metadata": {},
   "source": [
    "Now that we have our covariances, we can create our instance of `Custom`:"
   ]
  },
  {
   "cell_type": "code",
   "execution_count": 6,
   "metadata": {},
   "outputs": [],
   "source": [
    "data_model = Custom(teacher_teacher_cov = Psi, \n",
    "                    student_student_cov = Omega, \n",
    "                    teacher_student_cov = Phi)"
   ]
  },
  {
   "cell_type": "markdown",
   "metadata": {},
   "source": [
    "Now, we need to load our task. Let's look at logistic regression. The `model` class takes as an input the sample complexity $\\alpha = n/p$ and the $\\ell_2$ regularisation $\\lambda>0$"
   ]
  },
  {
   "cell_type": "code",
   "execution_count": 7,
   "metadata": {},
   "outputs": [],
   "source": [
    "task = LogisticRegression(sample_complexity = 0.5,\n",
    "                          regularisation= 0.01,\n",
    "                          data_model = data_model)"
   ]
  },
  {
   "cell_type": "markdown",
   "metadata": {},
   "source": [
    "All that is left is to initialise the saddle-point equation iterator:"
   ]
  },
  {
   "cell_type": "code",
   "execution_count": 8,
   "metadata": {},
   "outputs": [],
   "source": [
    "sp = StateEvolution(model = task,\n",
    "                    initialisation = 'uninformed',\n",
    "                    tolerance = 1e-7,\n",
    "                    damping = 0.5,\n",
    "                    verbose = True,\n",
    "                    max_steps = 1000)"
   ]
  },
  {
   "cell_type": "markdown",
   "metadata": {},
   "source": [
    "Now, we can simply iterate it"
   ]
  },
  {
   "cell_type": "code",
   "execution_count": 9,
   "metadata": {
    "scrolled": true
   },
   "outputs": [
    {
     "name": "stdout",
     "output_type": "stream",
     "text": [
      "t: 0, diff: 478.0152120783315, self overlaps: 0.04902775035219596, teacher-student overlap: 0.05419850145465994\n",
      "t: 1, diff: 240.006195014993, self overlaps: 0.15233031793698482, teacher-student overlap: 0.11537216518750265\n",
      "t: 2, diff: 121.55004480881897, self overlaps: 0.3688979585546957, teacher-student overlap: 0.1936650297246116\n",
      "t: 3, diff: 62.83227770088185, self overlaps: 0.7488293041269313, teacher-student overlap: 0.2898500244839212\n",
      "t: 4, diff: 33.70665842750992, self overlaps: 1.2894607255376267, teacher-student overlap: 0.3963501023184458\n",
      "t: 5, diff: 19.018559131874653, self overlaps: 1.932899112630993, teacher-student overlap: 0.50217971757138\n",
      "t: 6, diff: 11.326343276129812, self overlaps: 2.6103030802214198, teacher-student overlap: 0.5988796957152782\n",
      "t: 7, diff: 7.084365648846523, self overlaps: 3.2725934923209956, teacher-student overlap: 0.6824724789727779\n",
      "t: 8, diff: 4.614101813960866, self overlaps: 3.891642914962431, teacher-student overlap: 0.7522656020377083\n",
      "t: 9, diff: 3.1006691893982383, self overlaps: 4.45248082509606, teacher-student overlap: 0.8092252588706759\n",
      "t: 10, diff: 2.131391209222407, self overlaps: 4.947780111918034, teacher-student overlap: 0.8549482121135754\n",
      "t: 11, diff: 1.487389341040672, self overlaps: 5.3752236772316415, teacher-student overlap: 0.8911582262859145\n",
      "t: 12, diff: 1.0471039997673552, self overlaps: 5.736204160886704, teacher-student overlap: 0.9194897162087704\n",
      "t: 13, diff: 0.7398485539896091, self overlaps: 6.034892505793067, teacher-student overlap: 0.9414053669251355\n",
      "t: 14, diff: 0.5225719706529852, self overlaps: 6.277354257944113, teacher-student overlap: 0.9581721435857425\n",
      "t: 15, diff: 0.3678352318548833, self overlaps: 6.470704200133394, teacher-student overlap: 0.9708625003002096\n",
      "t: 16, diff: 0.2574017946187819, self overlaps: 6.622375090196902, teacher-student overlap: 0.9803670125558062\n",
      "t: 17, diff: 0.17871632955510408, self overlaps: 6.73955820364682, teacher-student overlap: 0.9874124474474898\n",
      "t: 18, diff: 0.1229024285551178, self overlaps: 6.828832047930186, teacher-student overlap: 0.9925823224988393\n",
      "t: 19, diff: 0.08357337685488453, self overlaps: 6.895959679269861, teacher-student overlap: 0.9963380044476637\n",
      "t: 20, diff: 0.056089939111541365, self overlaps: 6.945818445138473, teacher-student overlap: 0.999039082121571\n",
      "t: 21, diff: 0.03997950836787301, self overlaps: 6.982420756278041, teacher-student overlap: 1.0009620596070499\n",
      "t: 22, diff: 0.03179283688942869, self overlaps: 7.008990471613087, teacher-student overlap: 1.0023169032872357\n",
      "t: 23, diff: 0.02477645397906736, self overlaps: 7.0280658367704945, teacher-student overlap: 1.0032611458932892\n",
      "t: 24, diff: 0.018983416552116328, self overlaps: 7.041610896502277, teacher-student overlap: 1.0039116749176715\n",
      "t: 25, diff: 0.014331628264623308, self overlaps: 7.051121908610006, teacher-student overlap: 1.0043542712663798\n",
      "t: 26, diff: 0.010677561818740466, self overlaps: 7.0577230730292095, teacher-student overlap: 1.004651234761966\n",
      "t: 27, diff: 0.00785887214315184, self overlaps: 7.062248320610778, teacher-student overlap: 1.0048473407065823\n",
      "t: 28, diff: 0.005718253727923006, self overlaps: 7.065308978339838, teacher-student overlap: 1.0049744420657878\n",
      "t: 29, diff: 0.004114778392145801, self overlaps: 7.067348035951854, teacher-student overlap: 1.0050549516091718\n",
      "t: 30, diff: 0.002928651969576368, self overlaps: 7.068683002045796, teacher-student overlap: 1.00510447107804\n",
      "t: 31, diff: 0.0020615185660179947, self overlaps: 7.069538989625272, teacher-student overlap: 1.0051337369324864\n",
      "t: 32, diff: 0.0014346018152422424, self overlaps: 7.070073715475988, teacher-student overlap: 1.0051500365630583\n",
      "t: 33, diff: 0.000986317953711513, self overlaps: 7.070396479853782, teacher-student overlap: 1.0051582517226563\n",
      "t: 34, diff: 0.0006693117808029836, self overlaps: 7.0705820748445944, teacher-student overlap: 1.0051616004696717\n",
      "t: 35, diff: 0.00044754657984280577, self overlaps: 7.070680905545801, teacher-student overlap: 1.0051621565961293\n",
      "t: 36, diff: 0.00029618139662135334, self overlaps: 7.070726570486653, teacher-student overlap: 1.0051612365233384\n",
      "t: 37, diff: 0.0001929387986203679, self overlaps: 7.070740924728726, teacher-student overlap: 1.0051596399213518\n",
      "t: 38, diff: 0.00012886152166569076, self overlaps: 7.070737980694172, teacher-student overlap: 1.005157839462305\n",
      "t: 39, diff: 9.933994904343102e-05, self overlaps: 7.070726412395261, teacher-student overlap: 1.0051560921824707\n",
      "t: 40, diff: 7.540770940561714e-05, self overlaps: 7.0707114672785, teacher-student overlap: 1.0051545286599273\n",
      "t: 41, diff: 5.648511067457562e-05, self overlaps: 7.070696075790817, teacher-student overlap: 1.0051531942412304\n",
      "t: 42, diff: 4.175120458738135e-05, self overlaps: 7.070681882424788, teacher-student overlap: 1.0051521009742517\n",
      "t: 43, diff: 3.052877156139999e-05, self overlaps: 7.070669525381799, teacher-student overlap: 1.0051512249893857\n",
      "t: 44, diff: 2.2065684516681117e-05, self overlaps: 7.070659220891232, teacher-student overlap: 1.0051505392930284\n",
      "t: 45, diff: 1.579314563948664e-05, self overlaps: 7.070650856883057, teacher-student overlap: 1.0051500102273925\n",
      "t: 46, diff: 1.1175441515964835e-05, self overlaps: 7.070644225985911, teacher-student overlap: 1.0051496079797184\n",
      "t: 47, diff: 7.800409286939924e-06, self overlaps: 7.0706391089842136, teacher-student overlap: 1.00514930946238\n",
      "t: 48, diff: 5.404160678956771e-06, self overlaps: 7.070635179670668, teacher-student overlap: 1.0051490870236246\n",
      "t: 49, diff: 3.6970438486161328e-06, self overlaps: 7.070632201241581, teacher-student overlap: 1.0051489228315356\n",
      "t: 50, diff: 2.4762477279782757e-06, self overlaps: 7.070630012360087, teacher-student overlap: 1.0051488064020107\n",
      "t: 51, diff: 1.7786761414839702e-06, self overlaps: 7.070628381762205, teacher-student overlap: 1.0051487213408055\n",
      "t: 52, diff: 1.3972883352586507e-06, self overlaps: 7.070627209781934, teacher-student overlap: 1.0051486622945331\n",
      "t: 53, diff: 1.0946183248705665e-06, self overlaps: 7.070626364779395, teacher-student overlap: 1.0051486207905898\n",
      "t: 54, diff: 8.640376394364324e-07, self overlaps: 7.070625748574354, teacher-student overlap: 1.0051485906894417\n",
      "t: 55, diff: 6.273279913315832e-07, self overlaps: 7.0706253315424075, teacher-student overlap: 1.0051485716927007\n",
      "t: 56, diff: 4.717680011090408e-07, self overlaps: 7.0706250404887605, teacher-student overlap: 1.005148558540453\n",
      "t: 57, diff: 3.391816405518e-07, self overlaps: 7.070624845511973, teacher-student overlap: 1.0051485503104225\n",
      "t: 58, diff: 2.4523368402640244e-07, self overlaps: 7.070624712438391, teacher-student overlap: 1.0051485448443513\n",
      "t: 59, diff: 1.991387550415169e-07, self overlaps: 7.070624609443158, teacher-student overlap: 1.0051485401170202\n",
      "t: 60, diff: 1.243492691038739e-07, self overlaps: 7.070624554079193, teacher-student overlap: 1.00514853830573\n",
      "t: 61, diff: 9.59389219179485e-08, self overlaps: 7.070624511152086, teacher-student overlap: 1.005148536718522\n",
      "Saddle point equations converged with t=62 iterations\n"
     ]
    }
   ],
   "source": [
    "sp.iterate()"
   ]
  },
  {
   "cell_type": "markdown",
   "metadata": {},
   "source": [
    "Voila, now you can check the result with method `get_info`, which gives everything you might be interested in a dictionary."
   ]
  },
  {
   "cell_type": "code",
   "execution_count": 13,
   "metadata": {},
   "outputs": [
    {
     "data": {
      "text/plain": [
       "{'hyperparameters': {'initialisation': 'uninformed',\n",
       "  'damping': 0.5,\n",
       "  'max_steps': 1000,\n",
       "  'tolerance': 1e-07},\n",
       " 'status': 1,\n",
       " 'convergence_time': 62,\n",
       " 'test_error': 0.37660906800285854,\n",
       " 'train_loss': 0.10335060611232535,\n",
       " 'overlaps': {'variance': 19.730186194816874,\n",
       "  'self_overlap': 7.070624554079193,\n",
       "  'teacher_student': 1.00514853830573}}"
      ]
     },
     "execution_count": 13,
     "metadata": {},
     "output_type": "execute_result"
    }
   ],
   "source": [
    "sp.get_info()"
   ]
  },
  {
   "cell_type": "code",
   "execution_count": 23,
   "metadata": {},
   "outputs": [
    {
     "data": {
      "text/plain": [
       "{'model': 'logistic_regression', 'sample_complexity': 0.5, 'lambda': 0.01}"
      ]
     },
     "execution_count": 23,
     "metadata": {},
     "output_type": "execute_result"
    }
   ],
   "source": [
    "sp.model.get_info()"
   ]
  },
  {
   "cell_type": "code",
   "execution_count": 24,
   "metadata": {},
   "outputs": [
    {
     "data": {
      "text/plain": [
       "{'data_model': 'custom', 'teacher_dimension': 1000, 'student_dimension': 2000}"
      ]
     },
     "execution_count": 24,
     "metadata": {},
     "output_type": "execute_result"
    }
   ],
   "source": [
    "sp.model.data_model.get_info()"
   ]
  },
  {
   "cell_type": "code",
   "execution_count": null,
   "metadata": {},
   "outputs": [],
   "source": []
  }
 ],
 "metadata": {
  "kernelspec": {
   "display_name": "Python 3",
   "language": "python",
   "name": "python3"
  },
  "language_info": {
   "codemirror_mode": {
    "name": "ipython",
    "version": 3
   },
   "file_extension": ".py",
   "mimetype": "text/x-python",
   "name": "python",
   "nbconvert_exporter": "python",
   "pygments_lexer": "ipython3",
   "version": "3.7.4"
  }
 },
 "nbformat": 4,
 "nbformat_minor": 4
}
