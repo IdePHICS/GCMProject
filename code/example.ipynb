{
 "cells": [
  {
   "cell_type": "code",
   "execution_count": 1,
   "metadata": {},
   "outputs": [],
   "source": [
    "import numpy as np\n",
    "import matplotlib.pyplot as plt\n",
    "import pandas as pd"
   ]
  },
  {
   "cell_type": "markdown",
   "metadata": {},
   "source": [
    "# How to use the state evolution package"
   ]
  },
  {
   "cell_type": "markdown",
   "metadata": {},
   "source": [
    "Let's look at a simple example of how to use the state evolution package with custom teacher-student covariance rmrices. The class has three components:\n",
    "- `data_model`: this class defines everything concerning the generative model for data - i.e. it initialises the covariances $\\Psi, \\Phi, \\Omega$ and pre-computes all the quantities required for the state evolution.\n",
    "- `model`: this class defines the task. It basically contains the updates for the overlaps and their conjugates. So far, we have implemented ridge and logistic regression.\n",
    "- `algorithms`: this class defines the iterator for the state evolution."
   ]
  },
  {
   "cell_type": "code",
   "execution_count": 2,
   "metadata": {},
   "outputs": [],
   "source": [
    "from state_evolution.models.logistic_regression import LogisticRegression # logistic regression task\n",
    "from state_evolution.algorithms.state_evolution import StateEvolution # Standard SP iteration"
   ]
  },
  {
   "cell_type": "markdown",
   "metadata": {},
   "source": [
    "### Example 1: Custom data model: fixed sample complexity"
   ]
  },
  {
   "cell_type": "markdown",
   "metadata": {},
   "source": [
    "Let's look at a simple example where we input the covariances."
   ]
  },
  {
   "cell_type": "code",
   "execution_count": 3,
   "metadata": {},
   "outputs": [],
   "source": [
    "from state_evolution.data_models.custom import Custom # Custom data model. You input the covariances"
   ]
  },
  {
   "cell_type": "markdown",
   "metadata": {},
   "source": [
    "Recall that the G$^3$M is defined by a teacher-student model with:\n",
    "- Teacher : $y = f^{0}(\\theta^{0}\\cdot z)$, $\\theta^{0}\\sim\\mathcal{N}(0,\\rm{I}_{k})$\n",
    "- Student : $\\hat{y} = \\hat{f}(w\\cdot x)$\n",
    "where $z\\in\\mathbb{R}^{k}$ and $x\\in\\mathbb{R}^{p}$ are jointly Gaussian variables with covariances\n",
    "$$ \\Psi = \\mathbb{E}zz^{\\top}\\in\\mathbb{R}^{k\\times k}, \\qquad \\Phi = \\mathbb{E}xz^{\\top}\\in\\mathbb{R}^{p\\times k}, \\qquad \\Omega = \\mathbb{E}xx^{\\top}\\in\\mathbb{R}^{p\\times p}\n",
    "$$.\n",
    "\n",
    "The class `Custom` takes as input the three covariance matrices that define a G$^3$M. "
   ]
  },
  {
   "cell_type": "markdown",
   "metadata": {},
   "source": [
    "As an example, let's look at a simple model where both the teacher and student come from a hidden-manifold model with different dimensions and activation functions:\n",
    "$$\n",
    "z = \\rm{sign}\\left(\\frac{1}{\\sqrt{d}}\\bar{\\rm{F}}c\\right), \\qquad x = \\rm{erf}\\left(\\frac{1}{\\sqrt{d}}\\rm{F}c\\right), \\qquad c\\sim\\mathcal{N}(0,\\rm{I}_{d})\n",
    "$$\n",
    "\n",
    "In this case, recall that the covariances can be computed analytically, and are given by:\n",
    "\n",
    " \\begin{align}\n",
    " \\Psi = \\bar{\\kappa}_{1}^2 \\bar{\\rm{F}}\\bar{\\rm{F}}^{\\top}+\\bar{\\kappa}_{\\star}^2\\rm{I}_{k}, && \\Phi = \\bar{\\kappa}_{1}\\kappa_{1} \\rm{F}\\bar{\\rm{F}}^{\\top}, && \\Omega = \\kappa_{1}^2 \\rm{F}\\rm{F}^{\\top}+\\kappa_{\\star}^2\\rm{I}_{p}\n",
    " \\end{align}\n",
    " \n",
    "with $\\kappa_{1} \\equiv \\mathbb{E}\\left[\\xi\\sigma(\\xi)\\right]$ and $\\kappa_{\\star}^2 \\equiv \\mathbb{E}\\left[\\sigma(\\xi)\\right]^2-\\kappa_{1}^2$ for $\\xi\\sim\\mathcal{N}(0,1)$ (idem for the bar). "
   ]
  },
  {
   "cell_type": "code",
   "execution_count": 4,
   "metadata": {},
   "outputs": [],
   "source": [
    "COEFICIENTS = {'relu': (1/np.sqrt(2*np.pi), 0.5, np.sqrt((np.pi-2)/(4*np.pi))), \n",
    "               'erf': (0, 2/np.sqrt(3*np.pi), 0.200364), 'tanh': (0, 0.605706, 0.165576),\n",
    "               'sign': (0, np.sqrt(2/np.pi), np.sqrt(1-2/np.pi))}"
   ]
  },
  {
   "cell_type": "code",
   "execution_count": 5,
   "metadata": {},
   "outputs": [],
   "source": [
    "d = 1000 # dimension of c\n",
    "p = 2000 # dimension of x\n",
    "k = 1000 # dimension of k\n",
    "\n",
    "F_teacher = np.random.normal(0,1, (d,k)) / np.sqrt(d) # teacher projection\n",
    "F_student = np.random.normal(0,1, (d,p)) / np.sqrt(d) # student proojection\n",
    "\n",
    "# Coefficients\n",
    "_, kappa1_teacher, kappastar_teacher = COEFICIENTS['sign']\n",
    "_, kappa1_student, kappastar_student = COEFICIENTS['erf']\n",
    "\n",
    "# Covariances\n",
    "Psi = (kappa1_teacher**2 * F_teacher.T @ F_teacher + kappastar_teacher**2 * np.identity(k))\n",
    "Omega = (kappa1_student**2 * F_student.T @ F_student + kappastar_student**2 * np.identity(p))\n",
    "Phi = kappa1_teacher * kappa1_student * F_student.T @ F_teacher"
   ]
  },
  {
   "cell_type": "markdown",
   "metadata": {},
   "source": [
    "Now that we have our covariances, we can create our instance of `Custom`:"
   ]
  },
  {
   "cell_type": "code",
   "execution_count": 6,
   "metadata": {},
   "outputs": [],
   "source": [
    "data_model = Custom(teacher_teacher_cov = Psi, \n",
    "                    student_student_cov = Omega, \n",
    "                    teacher_student_cov = Phi)"
   ]
  },
  {
   "cell_type": "markdown",
   "metadata": {},
   "source": [
    "Now, we need to load our task. Let's look at logistic regression. The `model` class takes as an input the sample complexity $\\alpha = n/p$ and the $\\ell_2$ regularisation $\\lambda>0$"
   ]
  },
  {
   "cell_type": "code",
   "execution_count": 7,
   "metadata": {},
   "outputs": [],
   "source": [
    "task = LogisticRegression(sample_complexity = 0.5,\n",
    "                          regularisation= 0.01,\n",
    "                          data_model = data_model)"
   ]
  },
  {
   "cell_type": "markdown",
   "metadata": {},
   "source": [
    "All that is left is to initialise the saddle-point equation iterator:"
   ]
  },
  {
   "cell_type": "code",
   "execution_count": 8,
   "metadata": {},
   "outputs": [],
   "source": [
    "sp = StateEvolution(model = task,\n",
    "                    initialisation = 'uninformed',\n",
    "                    tolerance = 1e-7,\n",
    "                    damping = 0.5,\n",
    "                    verbose = True,\n",
    "                    max_steps = 1000)"
   ]
  },
  {
   "cell_type": "markdown",
   "metadata": {},
   "source": [
    "Now, we can simply iterate it"
   ]
  },
  {
   "cell_type": "code",
   "execution_count": 9,
   "metadata": {
    "scrolled": true
   },
   "outputs": [
    {
     "name": "stdout",
     "output_type": "stream",
     "text": [
      "t: 0, diff: 478.0152120783315, self overlaps: 0.04902775035219596, teacher-student overlap: 0.05419850145465994\n",
      "t: 1, diff: 240.006195014993, self overlaps: 0.15233031793698482, teacher-student overlap: 0.11537216518750265\n",
      "t: 2, diff: 121.55004480881897, self overlaps: 0.3688979585546957, teacher-student overlap: 0.1936650297246116\n",
      "t: 3, diff: 62.83227770088185, self overlaps: 0.7488293041269313, teacher-student overlap: 0.2898500244839212\n",
      "t: 4, diff: 33.70665842750992, self overlaps: 1.2894607255376267, teacher-student overlap: 0.3963501023184458\n",
      "t: 5, diff: 19.018559131874653, self overlaps: 1.932899112630993, teacher-student overlap: 0.50217971757138\n",
      "t: 6, diff: 11.326343276129812, self overlaps: 2.6103030802214198, teacher-student overlap: 0.5988796957152782\n",
      "t: 7, diff: 7.084365648846523, self overlaps: 3.2725934923209956, teacher-student overlap: 0.6824724789727779\n",
      "t: 8, diff: 4.614101813960866, self overlaps: 3.891642914962431, teacher-student overlap: 0.7522656020377083\n",
      "t: 9, diff: 3.1006691893982383, self overlaps: 4.45248082509606, teacher-student overlap: 0.8092252588706759\n",
      "t: 10, diff: 2.131391209222407, self overlaps: 4.947780111918034, teacher-student overlap: 0.8549482121135754\n",
      "t: 11, diff: 1.487389341040672, self overlaps: 5.3752236772316415, teacher-student overlap: 0.8911582262859145\n",
      "t: 12, diff: 1.0471039997673552, self overlaps: 5.736204160886704, teacher-student overlap: 0.9194897162087704\n",
      "t: 13, diff: 0.7398485539896091, self overlaps: 6.034892505793067, teacher-student overlap: 0.9414053669251355\n",
      "t: 14, diff: 0.5225719706529852, self overlaps: 6.277354257944113, teacher-student overlap: 0.9581721435857425\n",
      "t: 15, diff: 0.3678352318548833, self overlaps: 6.470704200133394, teacher-student overlap: 0.9708625003002096\n",
      "t: 16, diff: 0.2574017946187819, self overlaps: 6.622375090196902, teacher-student overlap: 0.9803670125558062\n",
      "t: 17, diff: 0.17871632955510408, self overlaps: 6.73955820364682, teacher-student overlap: 0.9874124474474898\n",
      "t: 18, diff: 0.1229024285551178, self overlaps: 6.828832047930186, teacher-student overlap: 0.9925823224988393\n",
      "t: 19, diff: 0.08357337685488453, self overlaps: 6.895959679269861, teacher-student overlap: 0.9963380044476637\n",
      "t: 20, diff: 0.056089939111541365, self overlaps: 6.945818445138473, teacher-student overlap: 0.999039082121571\n",
      "t: 21, diff: 0.03997950836787301, self overlaps: 6.982420756278041, teacher-student overlap: 1.0009620596070499\n",
      "t: 22, diff: 0.03179283688942869, self overlaps: 7.008990471613087, teacher-student overlap: 1.0023169032872357\n",
      "t: 23, diff: 0.02477645397906736, self overlaps: 7.0280658367704945, teacher-student overlap: 1.0032611458932892\n",
      "t: 24, diff: 0.018983416552116328, self overlaps: 7.041610896502277, teacher-student overlap: 1.0039116749176715\n",
      "t: 25, diff: 0.014331628264623308, self overlaps: 7.051121908610006, teacher-student overlap: 1.0043542712663798\n",
      "t: 26, diff: 0.010677561818740466, self overlaps: 7.0577230730292095, teacher-student overlap: 1.004651234761966\n",
      "t: 27, diff: 0.00785887214315184, self overlaps: 7.062248320610778, teacher-student overlap: 1.0048473407065823\n",
      "t: 28, diff: 0.005718253727923006, self overlaps: 7.065308978339838, teacher-student overlap: 1.0049744420657878\n",
      "t: 29, diff: 0.004114778392145801, self overlaps: 7.067348035951854, teacher-student overlap: 1.0050549516091718\n",
      "t: 30, diff: 0.002928651969576368, self overlaps: 7.068683002045796, teacher-student overlap: 1.00510447107804\n",
      "t: 31, diff: 0.0020615185660179947, self overlaps: 7.069538989625272, teacher-student overlap: 1.0051337369324864\n",
      "t: 32, diff: 0.0014346018152422424, self overlaps: 7.070073715475988, teacher-student overlap: 1.0051500365630583\n",
      "t: 33, diff: 0.000986317953711513, self overlaps: 7.070396479853782, teacher-student overlap: 1.0051582517226563\n",
      "t: 34, diff: 0.0006693117808029836, self overlaps: 7.0705820748445944, teacher-student overlap: 1.0051616004696717\n",
      "t: 35, diff: 0.00044754657984280577, self overlaps: 7.070680905545801, teacher-student overlap: 1.0051621565961293\n",
      "t: 36, diff: 0.00029618139662135334, self overlaps: 7.070726570486653, teacher-student overlap: 1.0051612365233384\n",
      "t: 37, diff: 0.0001929387986203679, self overlaps: 7.070740924728726, teacher-student overlap: 1.0051596399213518\n",
      "t: 38, diff: 0.00012886152166569076, self overlaps: 7.070737980694172, teacher-student overlap: 1.005157839462305\n",
      "t: 39, diff: 9.933994904343102e-05, self overlaps: 7.070726412395261, teacher-student overlap: 1.0051560921824707\n",
      "t: 40, diff: 7.540770940561714e-05, self overlaps: 7.0707114672785, teacher-student overlap: 1.0051545286599273\n",
      "t: 41, diff: 5.648511067457562e-05, self overlaps: 7.070696075790817, teacher-student overlap: 1.0051531942412304\n",
      "t: 42, diff: 4.175120458738135e-05, self overlaps: 7.070681882424788, teacher-student overlap: 1.0051521009742517\n",
      "t: 43, diff: 3.052877156139999e-05, self overlaps: 7.070669525381799, teacher-student overlap: 1.0051512249893857\n",
      "t: 44, diff: 2.2065684516681117e-05, self overlaps: 7.070659220891232, teacher-student overlap: 1.0051505392930284\n",
      "t: 45, diff: 1.579314563948664e-05, self overlaps: 7.070650856883057, teacher-student overlap: 1.0051500102273925\n",
      "t: 46, diff: 1.1175441515964835e-05, self overlaps: 7.070644225985911, teacher-student overlap: 1.0051496079797184\n",
      "t: 47, diff: 7.800409286939924e-06, self overlaps: 7.0706391089842136, teacher-student overlap: 1.00514930946238\n",
      "t: 48, diff: 5.404160678956771e-06, self overlaps: 7.070635179670668, teacher-student overlap: 1.0051490870236246\n",
      "t: 49, diff: 3.6970438486161328e-06, self overlaps: 7.070632201241581, teacher-student overlap: 1.0051489228315356\n",
      "t: 50, diff: 2.4762477279782757e-06, self overlaps: 7.070630012360087, teacher-student overlap: 1.0051488064020107\n",
      "t: 51, diff: 1.7786761414839702e-06, self overlaps: 7.070628381762205, teacher-student overlap: 1.0051487213408055\n",
      "t: 52, diff: 1.3972883352586507e-06, self overlaps: 7.070627209781934, teacher-student overlap: 1.0051486622945331\n",
      "t: 53, diff: 1.0946183248705665e-06, self overlaps: 7.070626364779395, teacher-student overlap: 1.0051486207905898\n",
      "t: 54, diff: 8.640376394364324e-07, self overlaps: 7.070625748574354, teacher-student overlap: 1.0051485906894417\n",
      "t: 55, diff: 6.273279913315832e-07, self overlaps: 7.0706253315424075, teacher-student overlap: 1.0051485716927007\n",
      "t: 56, diff: 4.717680011090408e-07, self overlaps: 7.0706250404887605, teacher-student overlap: 1.005148558540453\n",
      "t: 57, diff: 3.391816405518e-07, self overlaps: 7.070624845511973, teacher-student overlap: 1.0051485503104225\n",
      "t: 58, diff: 2.4523368402640244e-07, self overlaps: 7.070624712438391, teacher-student overlap: 1.0051485448443513\n",
      "t: 59, diff: 1.991387550415169e-07, self overlaps: 7.070624609443158, teacher-student overlap: 1.0051485401170202\n",
      "t: 60, diff: 1.243492691038739e-07, self overlaps: 7.070624554079193, teacher-student overlap: 1.00514853830573\n",
      "t: 61, diff: 9.59389219179485e-08, self overlaps: 7.070624511152086, teacher-student overlap: 1.005148536718522\n",
      "Saddle point equations converged with t=62 iterations\n"
     ]
    }
   ],
   "source": [
    "sp.iterate()"
   ]
  },
  {
   "cell_type": "markdown",
   "metadata": {},
   "source": [
    "Voila, now you can check the result with method `get_info`, which gives everything you might be interested in a dictionary."
   ]
  },
  {
   "cell_type": "code",
   "execution_count": 13,
   "metadata": {},
   "outputs": [
    {
     "data": {
      "text/plain": [
       "{'hyperparameters': {'initialisation': 'uninformed',\n",
       "  'damping': 0.5,\n",
       "  'max_steps': 1000,\n",
       "  'tolerance': 1e-07},\n",
       " 'status': 1,\n",
       " 'convergence_time': 62,\n",
       " 'test_error': 0.37660906800285854,\n",
       " 'train_loss': 0.10335060611232535,\n",
       " 'overlaps': {'variance': 19.730186194816874,\n",
       "  'self_overlap': 7.070624554079193,\n",
       "  'teacher_student': 1.00514853830573}}"
      ]
     },
     "execution_count": 13,
     "metadata": {},
     "output_type": "execute_result"
    }
   ],
   "source": [
    "sp.get_info()"
   ]
  },
  {
   "cell_type": "markdown",
   "metadata": {},
   "source": [
    "### Example 2: Custom data model: whole learning curve"
   ]
  },
  {
   "cell_type": "markdown",
   "metadata": {},
   "source": [
    "It is boring to repeat all the pipeline above every time you want to compute a new $\\alpha$. Instead, we can encapsulate it in an `experiment` class which allows one to compute a whole learning curve in one go."
   ]
  },
  {
   "cell_type": "code",
   "execution_count": 9,
   "metadata": {},
   "outputs": [],
   "source": [
    "from state_evolution.experiments.learning_curve import CustomExperiment"
   ]
  },
  {
   "cell_type": "markdown",
   "metadata": {},
   "source": [
    "The class `CustomExperiment` takes as argument the task you want (from those implemented), the regularisation and the data_model, apart from all the hyperparameters of the iterator."
   ]
  },
  {
   "cell_type": "code",
   "execution_count": 10,
   "metadata": {},
   "outputs": [],
   "source": [
    "my_experiment = CustomExperiment(task = 'logistic_regression', \n",
    "                                 regularisation = 0.01, \n",
    "                                 data_model = data_model, \n",
    "                                 initialisation='uninformed', \n",
    "                                 tolerance = 1e-7, \n",
    "                                 damping = 0.5, \n",
    "                                 verbose = True, \n",
    "                                 max_steps = 1000)"
   ]
  },
  {
   "cell_type": "markdown",
   "metadata": {},
   "source": [
    "To compute the learning curve, you need to pass a python iterable with the values of the sample complexity you want to compute"
   ]
  },
  {
   "cell_type": "code",
   "execution_count": 11,
   "metadata": {
    "scrolled": true
   },
   "outputs": [
    {
     "name": "stdout",
     "output_type": "stream",
     "text": [
      "Runninig sample complexity: 0.5\n",
      "t: 0, diff: 478.0337442109259, self overlaps: 0.04899498135886003, teacher-student overlap: 0.054116868475803555\n",
      "t: 1, diff: 240.0147066424941, self overlaps: 0.15222217335388852, teacher-student overlap: 0.11519657655948783\n",
      "t: 2, diff: 121.55310144129263, self overlaps: 0.3686185475367802, teacher-student overlap: 0.1933691020420142\n",
      "t: 3, diff: 62.832202929973036, self overlaps: 0.7482312328608488, teacher-student overlap: 0.2894075478861629\n",
      "t: 4, diff: 33.70489748792288, self overlaps: 1.288399852534285, teacher-student overlap: 0.39574908341351056\n",
      "t: 5, diff: 19.016162045412656, self overlaps: 1.9312914648876998, teacher-student overlap: 0.5014261526639945\n",
      "t: 6, diff: 11.323971927033282, self overlaps: 2.6081278549349434, teacher-student overlap: 0.5979908779343166\n",
      "t: 7, diff: 7.082321989674623, self overlaps: 3.269869551122362, teacher-student overlap: 0.681469146719533\n",
      "t: 8, diff: 4.612462440718839, self overlaps: 3.8884110383757338, teacher-student overlap: 0.751167692850517\n",
      "t: 9, diff: 3.0994085638868976, self overlaps: 4.448794069742438, teacher-student overlap: 0.8080504455120441\n",
      "t: 10, diff: 2.130450043413272, self overlaps: 4.943697649795675, teacher-student overlap: 0.853711643493509\n",
      "t: 11, diff: 1.4867041336816698, self overlaps: 5.370806156490699, teacher-student overlap: 0.8898726636269514\n",
      "t: 12, diff: 1.0466177224985964, self overlaps: 5.731510245655395, teacher-student overlap: 0.9181657793092609\n",
      "t: 13, diff: 0.7395133484862543, self overlaps: 6.029976314212286, teacher-student overlap: 0.940051781232065\n",
      "t: 14, diff: 0.5223489895653264, self overlaps: 6.272263643775922, teacher-student overlap: 0.9567959715735186\n",
      "t: 15, diff: 0.3676938132695028, self overlaps: 6.465480114767648, teacher-student overlap: 0.969469382406558\n",
      "t: 16, diff: 0.2573180996852943, self overlaps: 6.617051418057255, teacher-student overlap: 0.9789613793844498\n",
      "t: 17, diff: 0.17867224913013335, self overlaps: 6.734162142207627, teacher-student overlap: 0.9859977211834172\n",
      "t: 18, diff: 0.1228845302597611, self overlaps: 6.823384854311858, teacher-student overlap: 0.9911611048209276\n",
      "t: 19, diff: 0.08357193547515174, self overlaps: 6.89047752960339, teacher-student overlap: 0.9949122402499124\n",
      "t: 20, diff: 0.056098073813878324, self overlaps: 6.940313281233031, teacher-student overlap: 0.9976101976879068\n",
      "t: 21, diff: 0.039933572127795025, self overlaps: 6.976901269255758, teacher-student overlap: 0.9995310903173694\n",
      "t: 22, diff: 0.03175852536372792, self overlaps: 7.0034626646327585, teacher-student overlap: 1.0008845770214823\n",
      "t: 23, diff: 0.02475147866809202, self overlaps: 7.022533886335534, teacher-student overlap: 1.0018279767306222\n",
      "t: 24, diff: 0.01896554396967387, self overlaps: 7.036077457466061, teacher-student overlap: 1.002478006464195\n",
      "t: 25, diff: 0.01431916677302203, self overlaps: 7.045588639358701, teacher-student overlap: 1.0029203331154584\n",
      "t: 26, diff: 0.01066904003165492, self overlaps: 7.052190889624235, teacher-student overlap: 1.0032171708017645\n",
      "t: 27, diff: 0.007853270034649196, self overlaps: 7.056717705070649, teacher-student overlap: 1.0034132424816544\n",
      "t: 28, diff: 0.005714632870979397, self overlaps: 7.0597800425630055, teacher-student overlap: 1.0035403576058717\n",
      "t: 29, diff: 0.00411263533028694, self overlaps: 7.061820780493135, teacher-student overlap: 1.0036209109877963\n",
      "t: 30, diff: 0.0029274841788915484, self overlaps: 7.0631573060856425, teacher-student overlap: 1.003670486597494\n",
      "t: 31, diff: 0.0020609279226329047, self overlaps: 7.06401462369619, teacher-student overlap: 1.0036998069397793\n",
      "t: 32, diff: 0.001434459513739883, self overlaps: 7.064550516000597, teacher-student overlap: 1.0037161605736897\n",
      "t: 33, diff: 0.0009864192858672904, self overlaps: 7.064874247300208, teacher-student overlap: 1.0037244238516225\n",
      "t: 34, diff: 0.0006695003430203794, self overlaps: 7.065060606552358, teacher-student overlap: 1.0037278116818307\n",
      "t: 35, diff: 0.0004478174421485015, self overlaps: 7.065160066355145, teacher-student overlap: 1.003728401426422\n",
      "t: 36, diff: 0.0002963854042352665, self overlaps: 7.0652062039854355, teacher-student overlap: 1.0037275068487976\n",
      "t: 37, diff: 0.0001931623496265189, self overlaps: 7.0652209433122355, teacher-student overlap: 1.0037259315317093\n",
      "t: 38, diff: 0.00012847686388628432, self overlaps: 7.065218283040101, teacher-student overlap: 1.0037241466616895\n",
      "t: 39, diff: 9.908073802922246e-05, self overlaps: 7.06520693486214, teacher-student overlap: 1.0037224121083006\n",
      "t: 40, diff: 7.52353272783779e-05, self overlaps: 7.065192133953323, teacher-student overlap: 1.0037208561970679\n",
      "t: 41, diff: 5.6335672312446405e-05, self overlaps: 7.0651769104383, teacher-student overlap: 1.0037195327668362\n",
      "t: 42, diff: 4.168824613648425e-05, self overlaps: 7.065162776663055, teacher-student overlap: 1.0037184419597316\n",
      "t: 43, diff: 3.0486966919207603e-05, self overlaps: 7.065150466832517, teacher-student overlap: 1.003717568293012\n",
      "t: 44, diff: 2.203841932435502e-05, self overlaps: 7.065140204146049, teacher-student overlap: 1.0037168852615617\n",
      "t: 45, diff: 1.5761889895715697e-05, self overlaps: 7.065131893803937, teacher-student overlap: 1.0037163597233716\n",
      "t: 46, diff: 1.1171038932999977e-05, self overlaps: 7.065125275565087, teacher-student overlap: 1.0037159577001942\n",
      "t: 47, diff: 7.811201275798041e-06, self overlaps: 7.065120139924046, teacher-student overlap: 1.0037156571245704\n",
      "t: 48, diff: 5.3825758836723026e-06, self overlaps: 7.065116246141367, teacher-student overlap: 1.0037154375223727\n",
      "t: 49, diff: 3.686173114747504e-06, self overlaps: 7.065113295843814, teacher-student overlap: 1.0037152755270644\n",
      "t: 50, diff: 2.478372018277497e-06, self overlaps: 7.065111103359705, teacher-student overlap: 1.00371515834893\n",
      "t: 51, diff: 1.7459754251269999e-06, self overlaps: 7.065109488100181, teacher-student overlap: 1.0037150747522827\n",
      "t: 52, diff: 1.406986523067033e-06, self overlaps: 7.065108305859781, teacher-student overlap: 1.0037150148682648\n",
      "t: 53, diff: 1.0975518216493896e-06, self overlaps: 7.0651074534672205, teacher-student overlap: 1.0037149729196213\n",
      "t: 54, diff: 8.451332900172304e-07, self overlaps: 7.065106849000451, teacher-student overlap: 1.0037149437328763\n",
      "t: 55, diff: 6.288231717554993e-07, self overlaps: 7.06510643247462, teacher-student overlap: 1.0037149245528165\n",
      "t: 56, diff: 4.5612977239706254e-07, self overlaps: 7.065106147800771, teacher-student overlap: 1.0037149122198763\n",
      "t: 57, diff: 3.2661219417917664e-07, self overlaps: 7.0651059535490575, teacher-student overlap: 1.0037149043115987\n",
      "t: 58, diff: 2.461399466469061e-07, self overlaps: 7.065105822632311, teacher-student overlap: 1.0037148988062479\n",
      "t: 59, diff: 1.9856572741616674e-07, self overlaps: 7.0651057180213055, teacher-student overlap: 1.0037148941407381\n",
      "t: 60, diff: 1.4126472547282276e-07, self overlaps: 7.065105654773178, teacher-student overlap: 1.003714891501363\n",
      "t: 61, diff: 8.63375575477221e-08, self overlaps: 7.065105617121725, teacher-student overlap: 1.0037148905419304\n",
      "Saddle point equations converged with t=62 iterations\n",
      "Runninig sample complexity: 1\n",
      "t: 0, diff: 479.14603652924615, self overlaps: 0.11110318546860751, teacher-student overlap: 0.10256200513393468\n",
      "t: 1, diff: 241.30104519564827, self overlaps: 0.3233939288666692, teacher-student overlap: 0.21342185767979205\n",
      "t: 2, diff: 123.08623625057929, self overlaps: 0.7114647677803062, teacher-student overlap: 0.34521685731001284\n",
      "t: 3, diff: 64.43536856082135, self overlaps: 1.2975581821972542, teacher-student overlap: 0.49417448664348906\n",
      "t: 4, diff: 35.10833360747829, self overlaps: 2.024638176777842, teacher-student overlap: 0.6467608423963661\n",
      "t: 5, diff: 20.075560933526457, self overlaps: 2.803283490180716, teacher-student overlap: 0.7895542526887345\n",
      "t: 6, diff: 12.06079493269017, self overlaps: 3.567480883135069, teacher-student overlap: 0.9151209878900136\n",
      "t: 7, diff: 7.590726565769411, self overlaps: 4.2852584958602025, teacher-student overlap: 1.021610747259464\n",
      "t: 8, diff: 4.982753122569045, self overlaps: 4.945693115506495, teacher-student overlap: 1.110235987137147\n",
      "t: 9, diff: 3.3938576494652, self overlaps: 5.547043371438706, teacher-student overlap: 1.1833774485412238\n",
      "t: 10, diff: 2.3852334971567775, self overlaps: 6.090591665820478, teacher-student overlap: 1.243591034927732\n",
      "t: 11, diff: 1.7198696500875756, self overlaps: 6.578237869110202, teacher-student overlap: 1.2931790858200798\n",
      "t: 12, diff: 1.2652355510433027, self overlaps: 7.011920193215076, teacher-student overlap: 1.3340590988490266\n",
      "t: 13, diff: 0.9447731972533433, self overlaps: 7.393736776842459, teacher-student overlap: 1.3677735150274704\n",
      "t: 14, diff: 0.712853956310638, self overlaps: 7.7261977430881625, teacher-student overlap: 1.3955531443818914\n",
      "t: 15, diff: 0.541419923770547, self overlaps: 8.01237245936225, teacher-student overlap: 1.4183888993057092\n",
      "t: 16, diff: 0.4126493442087018, self overlaps: 8.255882238266125, teacher-student overlap: 1.4370923939144788\n",
      "t: 17, diff: 0.3148298731772603, self overlaps: 8.46077305750065, teacher-student overlap: 1.4523404406116283\n",
      "t: 18, diff: 0.23998996619281443, self overlaps: 8.631326930381388, teacher-student overlap: 1.4647052762718413\n",
      "t: 19, diff: 0.1825154876779571, self overlaps: 8.771863792689775, teacher-student overlap: 1.4746744473735145\n",
      "t: 20, diff: 0.13832777563972676, self overlaps: 8.886568020765448, teacher-student overlap: 1.4826641063744945\n",
      "t: 21, diff: 0.10438576379844045, self overlaps: 8.979356604764764, teacher-student overlap: 1.489028541512539\n",
      "t: 22, diff: 0.08057401676333997, self overlaps: 9.053792644210684, teacher-student overlap: 1.4940676912840645\n",
      "t: 23, diff: 0.06791058991981336, self overlaps: 9.113039748229447, teacher-student overlap: 1.4980336177380664\n",
      "t: 24, diff: 0.056410230949100804, self overlaps: 9.159849706277745, teacher-student overlap: 1.501136420276603\n",
      "t: 25, diff: 0.04628424130914288, self overlaps: 9.19657436486531, teacher-student overlap: 1.5035497510286424\n",
      "t: 26, diff: 0.03757343466392893, self overlaps: 9.225193459405132, teacher-student overlap: 1.5054159440463248\n",
      "t: 27, diff: 0.03021609357453059, self overlaps: 9.24735149153112, teacher-student overlap: 1.5068507170501775\n",
      "t: 28, diff: 0.02409419972482274, self overlaps: 9.26439858602508, teacher-student overlap: 1.507947420069312\n",
      "t: 29, diff: 0.01906413569064136, self overlaps: 9.27743184429507, teacher-student overlap: 1.5087808146402162\n",
      "t: 30, diff: 0.014975604390274677, self overlaps: 9.287334218166876, teacher-student overlap: 1.5094103347574368\n",
      "t: 31, diff: 0.011684129006660271, self overlaps: 9.294810542103738, teacher-student overlap: 1.5098829377555898\n",
      "t: 32, diff: 0.009056856714570571, self overlaps: 9.300418848646729, teacher-student overlap: 1.5102354651102665\n",
      "t: 33, diff: 0.0069761741766123375, self overlaps: 9.304597865851834, teacher-student overlap: 1.5104966544124243\n",
      "t: 34, diff: 0.005340232450466775, self overlaps: 9.307690024146638, teacher-student overlap: 1.5106887765822992\n",
      "t: 35, diff: 0.004062812087509249, self overlaps: 9.309960962440574, teacher-student overlap: 1.5108289985621486\n",
      "t: 36, diff: 0.0030717355368135024, self overlaps: 9.31161528486841, teacher-student overlap: 1.5109304622476993\n",
      "t: 37, diff: 0.0023077554490638086, self overlaps: 9.3128097476359, teacher-student overlap: 1.511003182096811\n",
      "t: 38, diff: 0.0017224079253699287, self overlaps: 9.313663586350176, teacher-student overlap: 1.5110547315598284\n",
      "t: 39, diff: 0.0012767456326798765, self overlaps: 9.314267032334559, teacher-student overlap: 1.5110908145690436\n",
      "t: 40, diff: 0.0009395042518920427, self overlaps: 9.31468785654893, teacher-student overlap: 1.511115691140541\n",
      "t: 41, diff: 0.0006858624487948717, self overlaps: 9.314976606359966, teacher-student overlap: 1.5111325194665972\n",
      "t: 42, diff: 0.000496427428907209, self overlaps: 9.31517084677256, teacher-student overlap: 1.5111436369773659\n",
      "t: 43, diff: 0.00035584622379558617, self overlaps: 9.315298160994747, teacher-student overlap: 1.511150747721901\n",
      "t: 44, diff: 0.00025226475616157984, self overlaps: 9.315378691138452, teacher-student overlap: 1.5111550881665536\n",
      "t: 45, diff: 0.00017657916590230194, self overlaps: 9.315427049723414, teacher-student overlap: 1.511157549680849\n",
      "t: 46, diff: 0.00012172080537165009, self overlaps: 9.31545369643193, teacher-student overlap: 1.5111587650620675\n",
      "t: 47, diff: 8.237841135372292e-05, self overlaps: 9.315466084416585, teacher-student overlap: 1.511159181985716\n",
      "t: 48, diff: 5.4576416537610584e-05, self overlaps: 9.315469386389893, teacher-student overlap: 1.5111591065235181\n",
      "t: 49, diff: 3.999018044220648e-05, self overlaps: 9.315467136412078, teacher-student overlap: 1.5111587437923464\n",
      "t: 50, diff: 3.2868018949638866e-05, self overlaps: 9.315461827154195, teacher-student overlap: 1.5111582394343994\n",
      "t: 51, diff: 2.675038839528021e-05, self overlaps: 9.315455031062719, teacher-student overlap: 1.5111576815989378\n",
      "t: 52, diff: 2.1556290005442236e-05, self overlaps: 9.315447779376692, teacher-student overlap: 1.5111571253982603\n",
      "t: 53, diff: 1.7235989081543224e-05, self overlaps: 9.315440696400183, teacher-student overlap: 1.511156604323332\n",
      "t: 54, diff: 1.3669306343722099e-05, self overlaps: 9.315434132842903, teacher-student overlap: 1.511156134508719\n",
      "t: 55, diff: 1.0776370109599753e-05, self overlaps: 9.315428255124909, teacher-student overlap: 1.5111557215712512\n",
      "t: 56, diff: 8.39807714569929e-06, self overlaps: 9.315423175937823, teacher-student overlap: 1.511155371020676\n",
      "t: 57, diff: 6.548094303449048e-06, self overlaps: 9.315418821282426, teacher-student overlap: 1.5111550733025536\n",
      "t: 58, diff: 5.036985364137436e-06, self overlaps: 9.315415184884781, teacher-student overlap: 1.511154827557005\n",
      "t: 59, diff: 3.883848569641302e-06, self overlaps: 9.315412159379346, teacher-student overlap: 1.5111546243692568\n",
      "t: 60, diff: 2.951150207541886e-06, self overlaps: 9.315409696546858, teacher-student overlap: 1.5111544606168943\n",
      "t: 61, diff: 2.221869129570564e-06, self overlaps: 9.315407722116802, teacher-student overlap: 1.511154330464863\n",
      "t: 62, diff: 1.7378201995210674e-06, self overlaps: 9.315406109886563, teacher-student overlap: 1.5111542243873937\n",
      "t: 63, diff: 1.4080176466979566e-06, self overlaps: 9.315404874076176, teacher-student overlap: 1.5111541448118606\n",
      "t: 64, diff: 1.2045733215337862e-06, self overlaps: 9.315403868769511, teacher-student overlap: 1.5111540791238842\n",
      "t: 65, diff: 9.890560184189212e-07, self overlaps: 9.315403078321165, teacher-student overlap: 1.511154027885302\n",
      "t: 66, diff: 8.195672500654894e-07, self overlaps: 9.315402446535604, teacher-student overlap: 1.5111539869919328\n",
      "t: 67, diff: 6.622618873297625e-07, self overlaps: 9.315401958093812, teacher-student overlap: 1.511153955433494\n",
      "t: 68, diff: 5.191790737324453e-07, self overlaps: 9.31540158631756, teacher-student overlap: 1.5111539315768558\n",
      "t: 69, diff: 4.34697362550196e-07, self overlaps: 9.315401284990243, teacher-student overlap: 1.5111539121408475\n",
      "t: 70, diff: 3.1373584041816116e-07, self overlaps: 9.315401079202019, teacher-student overlap: 1.5111538995177916\n",
      "t: 71, diff: 2.1580443432256402e-07, self overlaps: 9.315400945481896, teacher-student overlap: 1.5111538914670453\n",
      "t: 72, diff: 2.108513825760383e-07, self overlaps: 9.315400812655731, teacher-student overlap: 1.5111538826650603\n",
      "t: 73, diff: 1.4902788647574994e-07, self overlaps: 9.315400720198753, teacher-student overlap: 1.511153876816175\n",
      "t: 74, diff: 1.231638919740874e-07, self overlaps: 9.315400646958237, teacher-student overlap: 1.5111538720229314\n",
      "t: 75, diff: 8.917636096228421e-08, self overlaps: 9.315400596840423, teacher-student overlap: 1.5111538689931145\n",
      "Saddle point equations converged with t=76 iterations\n",
      "Runninig sample complexity: 1.5\n",
      "t: 0, diff: 480.1562158119653, self overlaps: 0.18201175496002603, teacher-student overlap: 0.1466677030812631\n",
      "t: 1, diff: 242.3527883830869, self overlaps: 0.5018325018358535, teacher-student overlap: 0.2989702688983887\n",
      "t: 2, diff: 124.15364265440643, self overlaps: 1.0293921290029824, teacher-student overlap: 0.46979798423669084\n",
      "t: 3, diff: 65.3375867848442, self overlaps: 1.7486080768251182, teacher-student overlap: 0.651311123566782\n",
      "t: 4, diff: 35.70187718389931, self overlaps: 2.56566361424973, teacher-student overlap: 0.8271465238942319\n",
      "t: 5, diff: 20.35889261282812, self overlaps: 3.3824933415542158, teacher-student overlap: 0.9842937477646334\n",
      "t: 6, diff: 12.121392560449904, self overlaps: 4.142080407308914, teacher-student overlap: 1.1172801746406331\n",
      "t: 7, diff: 7.523304533407709, self overlaps: 4.824156985490676, teacher-student overlap: 1.2261980731871196\n",
      "t: 8, diff: 4.855754896062114, self overlaps: 5.428163438446071, teacher-student overlap: 1.3138710371096303\n",
      "t: 9, diff: 3.248987294889166, self overlaps: 5.961406339771904, teacher-student overlap: 1.3840291355821936\n",
      "t: 10, diff: 2.245420998853955, self overlaps: 6.432883599719082, teacher-student overlap: 1.440338411636519\n",
      "t: 11, diff: 1.5963964155157224, self overlaps: 6.8505674261146146, teacher-student overlap: 1.4859444661443848\n",
      "t: 12, diff: 1.1625300870611153, self overlaps: 7.220621006543915, teacher-student overlap: 1.5233241354588516\n",
      "t: 13, diff: 0.863379177041381, self overlaps: 7.547591603704851, teacher-student overlap: 1.5543169002948938\n",
      "t: 14, diff: 0.6512268422904852, self overlaps: 7.834961712266757, teacher-student overlap: 1.5802433962522247\n",
      "t: 15, diff: 0.4970120157839837, self overlaps: 8.085697426701941, teacher-student overlap: 1.6020456886788632\n",
      "t: 16, diff: 0.3825622572407492, self overlaps: 8.302632733978518, teacher-student overlap: 1.6204109203081378\n",
      "t: 17, diff: 0.29619778276373987, self overlaps: 8.488661526507158, teacher-student overlap: 1.635863168122444\n",
      "t: 18, diff: 0.230191409288087, self overlaps: 8.646779079993472, teacher-student overlap: 1.6488237701277368\n",
      "t: 19, diff: 0.17927533811836738, self overlaps: 8.780033894259567, teacher-student overlap: 1.6596472340184725\n",
      "t: 20, diff: 0.13974982287111692, self overlaps: 8.891442419170248, teacher-student overlap: 1.6686409105586706\n",
      "t: 21, diff: 0.10894301943836471, self overlaps: 8.983901680184385, teacher-student overlap: 1.6760751262086866\n",
      "t: 22, diff: 0.08487758295417969, self overlaps: 9.06011811719301, teacher-student overlap: 1.6821883221800298\n",
      "t: 23, diff: 0.06882562032431006, self overlaps: 9.122559647297626, teacher-student overlap: 1.6871899486779531\n",
      "t: 24, diff: 0.05853873991188996, self overlaps: 9.173430265972506, teacher-student overlap: 1.6912625665070782\n",
      "t: 25, diff: 0.04921794419040748, self overlaps: 9.21466361709254, teacher-student overlap: 1.6945638297422547\n",
      "t: 26, diff: 0.04098554509952268, self overlaps: 9.247930718926593, teacher-student overlap: 1.6972285933366185\n",
      "t: 27, diff: 0.03385330228130501, self overlaps: 9.274657033537494, teacher-student overlap: 1.6993711506190508\n",
      "t: 28, diff: 0.02776699985168518, self overlaps: 9.2960452462847, teacher-student overlap: 1.7010875491037143\n",
      "t: 29, diff: 0.022636242148653007, self overlaps: 9.313100348255471, teacher-student overlap: 1.7024578674363857\n",
      "t: 30, diff: 0.018354409029742946, self overlaps: 9.326655204198069, teacher-student overlap: 1.7035484004619175\n",
      "t: 31, diff: 0.014811233647281874, self overlaps: 9.337395014231099, teacher-student overlap: 1.70441367482354\n",
      "t: 32, diff: 0.011900571722781361, self overlaps: 9.345879958353857, teacher-student overlap: 1.7050982917632074\n",
      "t: 33, diff: 0.009524487956831695, self overlaps: 9.352565329729757, teacher-student overlap: 1.7056385241311736\n",
      "t: 34, diff: 0.007595565943955496, self overlaps: 9.35781937811614, teacher-student overlap: 1.7060637456280108\n",
      "t: 35, diff: 0.006037322240956877, self overlaps: 9.361938551442567, teacher-student overlap: 1.7063976366878053\n",
      "t: 36, diff: 0.004784092998159961, self overlaps: 9.36516053945257, teacher-student overlap: 1.7066592109394185\n",
      "t: 37, diff: 0.00378020227091147, self overlaps: 9.367675197606317, teacher-student overlap: 1.7068636808316384\n",
      "t: 38, diff: 0.0029789372259096947, self overlaps: 9.369633611093661, teacher-student overlap: 1.7070231683431307\n",
      "t: 39, diff: 0.0023415639788120224, self overlaps: 9.371155683781172, teacher-student overlap: 1.7071473130227217\n",
      "t: 40, diff: 0.001836172866921837, self overlaps: 9.372336300617086, teacher-student overlap: 1.7072437571043984\n",
      "t: 41, diff: 0.0014365614324640674, self overlaps: 9.373250278707957, teacher-student overlap: 1.7073185339354473\n",
      "t: 42, diff: 0.0011214683847544649, self overlaps: 9.373956509991807, teacher-student overlap: 1.707376403644402\n",
      "t: 43, diff: 0.0008735528364818279, self overlaps: 9.374501121875731, teacher-student overlap: 1.7074210965769372\n",
      "t: 44, diff: 0.0006790935989475777, self overlaps: 9.374920363645083, teacher-student overlap: 1.707455553668031\n",
      "t: 45, diff: 0.0005268542070600013, self overlaps: 9.375242489394878, teacher-student overlap: 1.7074820689765242\n",
      "t: 46, diff: 0.00040797066752329414, self overlaps: 9.375489561381704, teacher-student overlap: 1.707502438608286\n",
      "t: 47, diff: 0.0003152838360676036, self overlaps: 9.375678701094156, teacher-student overlap: 1.707518055524078\n",
      "t: 48, diff: 0.00024322196313963929, self overlaps: 9.375823245997683, teacher-student overlap: 1.7075300091936851\n",
      "t: 49, diff: 0.0001872797852813246, self overlaps: 9.37593350548579, teacher-student overlap: 1.7075391410004268\n",
      "t: 50, diff: 0.00014393716060689954, self overlaps: 9.376017449556471, teacher-student overlap: 1.707546104201911\n",
      "t: 51, diff: 0.00011043459499870956, self overlaps: 9.376081251812318, teacher-student overlap: 1.7075514061100248\n",
      "t: 52, diff: 8.454285195957922e-05, self overlaps: 9.376129623520729, teacher-student overlap: 1.7075554317604205\n",
      "t: 53, diff: 6.461596550444426e-05, self overlaps: 9.376166233476013, teacher-student overlap: 1.7075584839113178\n",
      "t: 54, diff: 4.931996063506361e-05, self overlaps: 9.376193909727313, teacher-student overlap: 1.7075607949781486\n",
      "t: 55, diff: 3.7572252622242175e-05, self overlaps: 9.376214784912714, teacher-student overlap: 1.7075625424248144\n",
      "t: 56, diff: 2.8575127069663253e-05, self overlaps: 9.376230503130632, teacher-student overlap: 1.7075638598398375\n",
      "t: 57, diff: 2.1683243846881695e-05, self overlaps: 9.37624230435617, teacher-student overlap: 1.7075648516665616\n",
      "t: 58, diff: 1.637739314275244e-05, self overlaps: 9.376251106633017, teacher-student overlap: 1.707565590381312\n",
      "t: 59, diff: 1.23868813601824e-05, self overlaps: 9.376257692139877, teacher-student overlap: 1.7075661467002874\n",
      "t: 60, diff: 9.337086109617587e-06, self overlaps: 9.376262594492145, teacher-student overlap: 1.707566560732146\n",
      "t: 61, diff: 7.036739796628666e-06, self overlaps: 9.376266248713431, teacher-student overlap: 1.70756687050759\n",
      "t: 62, diff: 5.287526360309158e-06, self overlaps: 9.376268958048644, teacher-student overlap: 1.7075671006411923\n",
      "t: 63, diff: 3.963056645961416e-06, self overlaps: 9.376270963813992, teacher-student overlap: 1.7075672714605852\n",
      "t: 64, diff: 2.9611527798678594e-06, self overlaps: 9.376272439392888, teacher-student overlap: 1.7075673978140835\n",
      "t: 65, diff: 2.198190897972907e-06, self overlaps: 9.376273512954175, teacher-student overlap: 1.7075674893200288\n",
      "t: 66, diff: 1.6550940098447597e-06, self overlaps: 9.37627431558709, teacher-student overlap: 1.7075675575403537\n",
      "t: 67, diff: 1.2160258904270194e-06, self overlaps: 9.376274889127904, teacher-student overlap: 1.7075676069376176\n",
      "t: 68, diff: 8.853581694445722e-07, self overlaps: 9.37627529454916, teacher-student overlap: 1.7075676423241046\n",
      "t: 69, diff: 6.474635643183291e-07, self overlaps: 9.376275582224123, teacher-student overlap: 1.7075676673700404\n",
      "t: 70, diff: 4.845054544233562e-07, self overlaps: 9.376275796011086, teacher-student overlap: 1.7075676861117117\n",
      "t: 71, diff: 3.7311618594770835e-07, self overlaps: 9.376275963471585, teacher-student overlap: 1.7075677018243118\n",
      "t: 72, diff: 2.5880014398182993e-07, self overlaps: 9.376276070440463, teacher-student overlap: 1.7075677106629377\n",
      "t: 73, diff: 1.7763511217516736e-07, self overlaps: 9.376276136129988, teacher-student overlap: 1.7075677166050611\n",
      "t: 74, diff: 1.098179240877073e-07, self overlaps: 9.376276166367026, teacher-student overlap: 1.707567718846609\n",
      "t: 75, diff: 9.723296923169755e-08, self overlaps: 9.37627620233749, teacher-student overlap: 1.7075677229615316\n",
      "Saddle point equations converged with t=76 iterations\n"
     ]
    }
   ],
   "source": [
    "my_experiment.learning_curve(alphas = [0.5, 1, 1.5])"
   ]
  },
  {
   "cell_type": "markdown",
   "metadata": {},
   "source": [
    "The method `.get_curve()` returns the learning curve as a `pandas.DataFrame`."
   ]
  },
  {
   "cell_type": "code",
   "execution_count": 12,
   "metadata": {},
   "outputs": [
    {
     "data": {
      "text/html": [
       "<div>\n",
       "<style scoped>\n",
       "    .dataframe tbody tr th:only-of-type {\n",
       "        vertical-align: middle;\n",
       "    }\n",
       "\n",
       "    .dataframe tbody tr th {\n",
       "        vertical-align: top;\n",
       "    }\n",
       "\n",
       "    .dataframe thead th {\n",
       "        text-align: right;\n",
       "    }\n",
       "</style>\n",
       "<table border=\"1\" class=\"dataframe\">\n",
       "  <thead>\n",
       "    <tr style=\"text-align: right;\">\n",
       "      <th></th>\n",
       "      <th>task</th>\n",
       "      <th>gamma</th>\n",
       "      <th>lambda</th>\n",
       "      <th>rho</th>\n",
       "      <th>sample_complexity</th>\n",
       "      <th>V</th>\n",
       "      <th>m</th>\n",
       "      <th>q</th>\n",
       "      <th>test_error</th>\n",
       "      <th>train_loss</th>\n",
       "    </tr>\n",
       "  </thead>\n",
       "  <tbody>\n",
       "    <tr>\n",
       "      <th>0</th>\n",
       "      <td>logistic_regression</td>\n",
       "      <td>0.5</td>\n",
       "      <td>0.01</td>\n",
       "      <td>1.000084</td>\n",
       "      <td>0.5</td>\n",
       "      <td>19.707514</td>\n",
       "      <td>7.065106</td>\n",
       "      <td>7.065106</td>\n",
       "      <td>0.376744</td>\n",
       "      <td>0.103465</td>\n",
       "    </tr>\n",
       "    <tr>\n",
       "      <th>1</th>\n",
       "      <td>logistic_regression</td>\n",
       "      <td>0.5</td>\n",
       "      <td>0.01</td>\n",
       "      <td>1.000084</td>\n",
       "      <td>1.0</td>\n",
       "      <td>10.391235</td>\n",
       "      <td>9.315401</td>\n",
       "      <td>9.315401</td>\n",
       "      <td>0.335125</td>\n",
       "      <td>0.152861</td>\n",
       "    </tr>\n",
       "    <tr>\n",
       "      <th>2</th>\n",
       "      <td>logistic_regression</td>\n",
       "      <td>0.5</td>\n",
       "      <td>0.01</td>\n",
       "      <td>1.000084</td>\n",
       "      <td>1.5</td>\n",
       "      <td>6.542730</td>\n",
       "      <td>9.376276</td>\n",
       "      <td>9.376276</td>\n",
       "      <td>0.311703</td>\n",
       "      <td>0.199252</td>\n",
       "    </tr>\n",
       "  </tbody>\n",
       "</table>\n",
       "</div>"
      ],
      "text/plain": [
       "                  task  gamma  lambda       rho  sample_complexity          V  \\\n",
       "0  logistic_regression    0.5    0.01  1.000084                0.5  19.707514   \n",
       "1  logistic_regression    0.5    0.01  1.000084                1.0  10.391235   \n",
       "2  logistic_regression    0.5    0.01  1.000084                1.5   6.542730   \n",
       "\n",
       "          m         q  test_error  train_loss  \n",
       "0  7.065106  7.065106    0.376744    0.103465  \n",
       "1  9.315401  9.315401    0.335125    0.152861  \n",
       "2  9.376276  9.376276    0.311703    0.199252  "
      ]
     },
     "execution_count": 12,
     "metadata": {},
     "output_type": "execute_result"
    }
   ],
   "source": [
    "my_experiment.get_curve()"
   ]
  },
  {
   "cell_type": "markdown",
   "metadata": {},
   "source": [
    "Note you can save it in a csv, you can just call the method `save_experiment`"
   ]
  },
  {
   "cell_type": "code",
   "execution_count": 13,
   "metadata": {},
   "outputs": [
    {
     "name": "stdout",
     "output_type": "stream",
     "text": [
      "Saving experiment at ./testing.csv\n"
     ]
    }
   ],
   "source": [
    "my_experiment.save_experiment(name='testing')"
   ]
  },
  {
   "cell_type": "code",
   "execution_count": null,
   "metadata": {},
   "outputs": [],
   "source": []
  }
 ],
 "metadata": {
  "kernelspec": {
   "display_name": "Python 3",
   "language": "python",
   "name": "python3"
  },
  "language_info": {
   "codemirror_mode": {
    "name": "ipython",
    "version": 3
   },
   "file_extension": ".py",
   "mimetype": "text/x-python",
   "name": "python",
   "nbconvert_exporter": "python",
   "pygments_lexer": "ipython3",
   "version": "3.7.4"
  }
 },
 "nbformat": 4,
 "nbformat_minor": 4
}
