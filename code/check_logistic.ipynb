{
 "cells": [
  {
   "cell_type": "code",
   "execution_count": 1,
   "metadata": {},
   "outputs": [],
   "source": [
    "import numpy as np\n",
    "import matplotlib.pyplot as plt\n",
    "import pandas as pd\n",
    "from state_evolution.data_models.custom import Custom\n",
    "from state_evolution.experiments.learning_curve import CustomExperiment"
   ]
  },
  {
   "cell_type": "markdown",
   "metadata": {},
   "source": [
    "# Replicas vs Simulations: logistic loss"
   ]
  },
  {
   "cell_type": "markdown",
   "metadata": {},
   "source": [
    "In this notebook we will check replicas match simulation for the simplest example of a complex teacher: the single-layer hidden manifold model\n",
    "$$\n",
    "z = \\rm{sign}\\left(\\frac{1}{\\sqrt{d}}\\bar{\\rm{F}}c\\right), \\qquad x = \\rm{erf}\\left(\\frac{1}{\\sqrt{d}}\\rm{F}c\\right), \\qquad c\\sim\\mathcal{N}(0,\\rm{I}_{d})\n",
    "$$\n",
    "\n",
    "In this case, recall that the covariances can be computed analytically, and are given by:\n",
    "\n",
    " \\begin{align}\n",
    " \\Psi = \\bar{\\kappa}_{1}^2 \\bar{\\rm{F}}\\bar{\\rm{F}}^{\\top}+\\bar{\\kappa}_{\\star}^2\\rm{I}_{k}, && \\Phi = \\bar{\\kappa}_{1}\\kappa_{1} \\rm{F}\\bar{\\rm{F}}^{\\top}, && \\Omega = \\kappa_{1}^2 \\rm{F}\\rm{F}^{\\top}+\\kappa_{\\star}^2\\rm{I}_{p}\n",
    " \\end{align}\n",
    " \n",
    "with $\\kappa_{1} \\equiv \\mathbb{E}\\left[\\xi\\sigma(\\xi)\\right]$ and $\\kappa_{\\star}^2 \\equiv \\mathbb{E}\\left[\\sigma(\\xi)\\right]^2-\\kappa_{1}^2$ for $\\xi\\sim\\mathcal{N}(0,1)$ (idem for the bar). "
   ]
  },
  {
   "cell_type": "markdown",
   "metadata": {},
   "source": [
    "## Global variables"
   ]
  },
  {
   "cell_type": "code",
   "execution_count": 2,
   "metadata": {},
   "outputs": [],
   "source": [
    "COEFICIENTS = {'relu': (1/np.sqrt(2*np.pi), 0.5, np.sqrt((np.pi-2)/(4*np.pi))), \n",
    "               'erf': (0, 2/np.sqrt(3*np.pi), 0.200364), 'tanh': (0, 0.605706, 0.165576),\n",
    "               'sign': (0, np.sqrt(2/np.pi), np.sqrt(1-2/np.pi))}"
   ]
  },
  {
   "cell_type": "code",
   "execution_count": 3,
   "metadata": {},
   "outputs": [],
   "source": [
    "lamb = 0.01\n",
    "\n",
    "d = 1000 # dimension of c\n",
    "p = 2000 # dimension of x\n",
    "k = 1000 # dimension of k\n",
    "\n",
    "F_teacher = np.random.normal(0,1, (d,k)) / np.sqrt(d) # teacher projection\n",
    "F_student = np.random.normal(0,1, (d,p)) / np.sqrt(d) # student proojection\n",
    "\n",
    "# Coefficients\n",
    "_, kappa1_teacher, kappastar_teacher = COEFICIENTS['sign']\n",
    "_, kappa1_student, kappastar_student = COEFICIENTS['erf']\n",
    "\n",
    "# Covariances\n",
    "Psi = (kappa1_teacher**2 * F_teacher.T @ F_teacher + kappastar_teacher**2 * np.identity(k))\n",
    "Omega = (kappa1_student**2 * F_student.T @ F_student + kappastar_student**2 * np.identity(p))\n",
    "Phi = kappa1_teacher * kappa1_student * F_student.T @ F_teacher"
   ]
  },
  {
   "cell_type": "markdown",
   "metadata": {},
   "source": [
    "## Replicas"
   ]
  },
  {
   "cell_type": "markdown",
   "metadata": {},
   "source": [
    "Load data model"
   ]
  },
  {
   "cell_type": "code",
   "execution_count": 4,
   "metadata": {},
   "outputs": [],
   "source": [
    "data_model = Custom(teacher_teacher_cov = Psi, \n",
    "                    student_student_cov = Omega, \n",
    "                    teacher_student_cov = Phi)"
   ]
  },
  {
   "cell_type": "markdown",
   "metadata": {},
   "source": [
    "Load experiment"
   ]
  },
  {
   "cell_type": "code",
   "execution_count": 5,
   "metadata": {},
   "outputs": [],
   "source": [
    "experiment = CustomExperiment(task = 'logistic_regression', \n",
    "                              regularisation = 0.01, \n",
    "                              data_model = data_model, \n",
    "                              initialisation='uninformed', \n",
    "                              tolerance = 1e-7, \n",
    "                              damping = 0.5, \n",
    "                              verbose = True, \n",
    "                              max_steps = 1000)"
   ]
  },
  {
   "cell_type": "markdown",
   "metadata": {},
   "source": [
    "Run experiiment for a range of sample complexities"
   ]
  },
  {
   "cell_type": "code",
   "execution_count": 6,
   "metadata": {
    "scrolled": true
   },
   "outputs": [
    {
     "name": "stdout",
     "output_type": "stream",
     "text": [
      "Runninig sample complexity: 0.01\n",
      "Runninig sample complexity: 0.1673684210526316\n",
      "Runninig sample complexity: 0.3247368421052632\n",
      "Runninig sample complexity: 0.4821052631578948\n",
      "Runninig sample complexity: 0.6394736842105264\n",
      "Runninig sample complexity: 0.796842105263158\n",
      "Runninig sample complexity: 0.9542105263157896\n",
      "Runninig sample complexity: 1.1115789473684212\n",
      "Runninig sample complexity: 1.2689473684210528\n",
      "Runninig sample complexity: 1.4263157894736844\n",
      "Runninig sample complexity: 1.583684210526316\n",
      "Runninig sample complexity: 1.7410526315789476\n",
      "Runninig sample complexity: 1.8984210526315792\n",
      "Runninig sample complexity: 2.055789473684211\n",
      "Runninig sample complexity: 2.213157894736842\n",
      "Runninig sample complexity: 2.3705263157894736\n",
      "Runninig sample complexity: 2.5278947368421054\n",
      "Runninig sample complexity: 2.6852631578947372\n",
      "Runninig sample complexity: 2.8426315789473686\n",
      "Runninig sample complexity: 3.0\n"
     ]
    }
   ],
   "source": [
    "alphas = np.linspace(0.01, 3, 20)\n",
    "experiment.learning_curve(alphas = alphas)"
   ]
  },
  {
   "cell_type": "markdown",
   "metadata": {},
   "source": [
    "Saving replica data"
   ]
  },
  {
   "cell_type": "code",
   "execution_count": null,
   "metadata": {},
   "outputs": [],
   "source": [
    "experiment.save_experiment(directory='./data/replicas', \n",
    "                           name='replicas_logistic_teacher=sign_student=erf_lamb={}'.format(lamb))"
   ]
  },
  {
   "cell_type": "code",
   "execution_count": 7,
   "metadata": {},
   "outputs": [],
   "source": [
    "replicas = experiment.get_curve()"
   ]
  },
  {
   "cell_type": "markdown",
   "metadata": {},
   "source": [
    "## Simulation"
   ]
  },
  {
   "cell_type": "code",
   "execution_count": 8,
   "metadata": {},
   "outputs": [],
   "source": [
    "from scipy.special import erf\n",
    "from sklearn.linear_model import LogisticRegression"
   ]
  },
  {
   "cell_type": "markdown",
   "metadata": {},
   "source": [
    "Now let's simulate the problem above."
   ]
  },
  {
   "cell_type": "code",
   "execution_count": 9,
   "metadata": {},
   "outputs": [],
   "source": [
    "# Generate an instance of the data\n",
    "def generate_samples(sample_complexity, model='get'):\n",
    "    n = int(p*sample_complexity)\n",
    "    C = np.random.normal(0,1, (n,d))\n",
    "    \n",
    "    if model == 'get':\n",
    "        Z = kappa1_teacher * C @ F_teacher + kappastar_teacher * np.random.normal(0,1, (n,k))\n",
    "        X = kappa1_student * C @ F_student + kappastar_student * np.random.normal(0,1, (n,p))\n",
    "    \n",
    "    elif model == 'nl':\n",
    "        Z = np.sign(C @ F_teacher)\n",
    "        X = erf(C @ F_student)     \n",
    "    \n",
    "    return Z, X\n",
    "\n",
    "def get_instance(sample_complexity, signal, model='get'):\n",
    "    Z, X = generate_samples(sample_complexity, model=model)\n",
    "    \n",
    "    y = np.sign((Z @ signal)/np.sqrt(k))\n",
    "    \n",
    "    return y, X\n",
    "\n",
    "def generate_instance(sample_complexity, model='get'):\n",
    "    signal = np.random.normal(0,1, k)\n",
    "    \n",
    "    y, X = get_instance(sample_complexity, signal, model=model)\n",
    "    \n",
    "    return signal, y, X"
   ]
  },
  {
   "cell_type": "code",
   "execution_count": 10,
   "metadata": {},
   "outputs": [],
   "source": [
    "# Simulate the problem for a given sample complexity and average over given number of seeds.\n",
    "def simulate(sample_complexity, lamb, seeds=1, model='get'):\n",
    "    eg, et, el, m, q = [], [], [], [], []\n",
    "    \n",
    "    for i in range(seeds):\n",
    "        print('Running seed={}'.format(i))\n",
    "        \n",
    "        theta0, y, X = generate_instance(sample_complexity, model=model)\n",
    "        n = X.shape[0]\n",
    "        #Compute the optimal weight\n",
    "\n",
    "        w = LogisticRegression(penalty='l2',solver='lbfgs',fit_intercept=False, \n",
    "                               C = lamb**(-1), max_iter=1e4, tol=1e-7, verbose=0).fit(X/np.sqrt(p),y).coef_[0] \n",
    "            \n",
    "        yhat = np.sign(X @ w/np.sqrt(p))\n",
    "\n",
    "        train_error = 0.25 * np.mean((yhat - y)**2)\n",
    "\n",
    "        ynew, Xnew = get_instance(sample_complexity, theta0, model=model)\n",
    "\n",
    "        yhatnew = np.sign((Xnew @ w)/np.sqrt(p))\n",
    "\n",
    "        test_error = 0.25 * np.mean((yhatnew - ynew)**2)\n",
    "        train_loss = np.mean(np.log(1 + np.exp(-(X @ w)/np.sqrt(p) * y)))\n",
    "            \n",
    "        teacher_student = w.T @ Phi @ theta0 / np.sqrt(k*p)\n",
    "        student_student = w.T @ Omega @ w /p\n",
    "\n",
    "        eg.append(test_error)\n",
    "        et.append(train_error)\n",
    "        el.append(train_loss)\n",
    "        \n",
    "        m.append(teacher_student)\n",
    "        q.append(student_student)\n",
    "\n",
    "\n",
    "        \n",
    "    return (np.mean(et), np.mean(eg), np.mean(el), np.mean(q), np.mean(m), \n",
    "            np.std(et), np.std(eg), np.std(el), np.std(q), np.std(m))"
   ]
  },
  {
   "cell_type": "code",
   "execution_count": 11,
   "metadata": {
    "scrolled": true
   },
   "outputs": [
    {
     "name": "stdout",
     "output_type": "stream",
     "text": [
      "Sample complexity: 0.25\n",
      "Running seed=0\n",
      "Running seed=1\n",
      "Running seed=2\n",
      "Running seed=3\n",
      "Running seed=4\n",
      "Running seed=5\n",
      "Running seed=6\n",
      "Running seed=7\n",
      "Running seed=8\n",
      "Running seed=9\n",
      "Sample complexity: 0.5\n",
      "Running seed=0\n",
      "Running seed=1\n",
      "Running seed=2\n",
      "Running seed=3\n",
      "Running seed=4\n",
      "Running seed=5\n",
      "Running seed=6\n",
      "Running seed=7\n",
      "Running seed=8\n",
      "Running seed=9\n",
      "Sample complexity: 0.75\n",
      "Running seed=0\n",
      "Running seed=1\n",
      "Running seed=2\n",
      "Running seed=3\n",
      "Running seed=4\n",
      "Running seed=5\n",
      "Running seed=6\n",
      "Running seed=7\n",
      "Running seed=8\n",
      "Running seed=9\n",
      "Sample complexity: 1\n",
      "Running seed=0\n",
      "Running seed=1\n",
      "Running seed=2\n",
      "Running seed=3\n",
      "Running seed=4\n",
      "Running seed=5\n",
      "Running seed=6\n",
      "Running seed=7\n",
      "Running seed=8\n",
      "Running seed=9\n",
      "Sample complexity: 1.5\n",
      "Running seed=0\n",
      "Running seed=1\n",
      "Running seed=2\n",
      "Running seed=3\n",
      "Running seed=4\n",
      "Running seed=5\n",
      "Running seed=6\n",
      "Running seed=7\n",
      "Running seed=8\n",
      "Running seed=9\n",
      "Sample complexity: 2\n",
      "Running seed=0\n",
      "Running seed=1\n",
      "Running seed=2\n",
      "Running seed=3\n",
      "Running seed=4\n",
      "Running seed=5\n",
      "Running seed=6\n",
      "Running seed=7\n",
      "Running seed=8\n",
      "Running seed=9\n",
      "Sample complexity: 2.5\n",
      "Running seed=0\n",
      "Running seed=1\n",
      "Running seed=2\n",
      "Running seed=3\n",
      "Running seed=4\n",
      "Running seed=5\n",
      "Running seed=6\n",
      "Running seed=7\n",
      "Running seed=8\n",
      "Running seed=9\n"
     ]
    }
   ],
   "source": [
    "# Iterate over sample complexities\n",
    "alphas = [0.25, 0.5, 0.75, 1, 1.5, 2,  2.5]\n",
    "simulation = {'model': [], 'dimension': [], 'sample_complexity': [], 'train_error': [], \n",
    "              'test_error': [], 'lambda': [], 'seeds': [], 'std_et': [], 'std_eg': [], \n",
    "              'm': [], 'm_std': [], 'q': [], 'q_std': [], 'train_loss': [], 'std_el': []}\n",
    "seeds = 10\n",
    "\n",
    "for alpha in alphas:\n",
    "    print('Sample complexity: {}'.format(alpha))\n",
    "    train_error, test_error, train_loss, q, m, std_et, std_eg, std_el, q_std, m_std  = simulate(alpha, lamb, seeds=seeds, model='nl')\n",
    "\n",
    "    simulation['model'].append('hmm_teacher')\n",
    "\n",
    "    simulation['sample_complexity'].append(alpha)\n",
    "\n",
    "    simulation['std_et'].append(std_et)\n",
    "    simulation['std_eg'].append(std_eg)\n",
    "    simulation['std_el'].append(std_el)\n",
    "    \n",
    "    simulation['test_error'].append(test_error)\n",
    "    simulation['train_error'].append(train_error)\n",
    "    simulation['train_loss'].append(train_loss)\n",
    "    \n",
    "    simulation['m'].append(m)\n",
    "    simulation['q'].append(q)\n",
    "    simulation['m_std'].append(m_std)\n",
    "    simulation['q_std'].append(q_std)\n",
    "\n",
    "    simulation['lambda'].append(lamb)\n",
    "    simulation['seeds'].append(seeds)\n",
    "\n",
    "    simulation['dimension'].append(d)\n",
    "\n",
    "simulation = pd.DataFrame.from_dict(simulation)"
   ]
  },
  {
   "cell_type": "markdown",
   "metadata": {},
   "source": [
    "Saving simulation data"
   ]
  },
  {
   "cell_type": "code",
   "execution_count": 12,
   "metadata": {},
   "outputs": [],
   "source": [
    "#simulation.to_csv('./data/simulations/simulations_logistic_teacher=sign_student=erf_lamb={}.csv'.format(lamb))\n",
    "# replicas = pd.read_csv('./data/replicas/replicas_logistic_teacher=sign_student=erf_lamb=0.01.csv')"
   ]
  },
  {
   "cell_type": "markdown",
   "metadata": {},
   "source": [
    "## Comparison plots"
   ]
  },
  {
   "cell_type": "code",
   "execution_count": 13,
   "metadata": {},
   "outputs": [
    {
     "data": {
      "text/plain": [
       "<matplotlib.legend.Legend at 0x12b8564d0>"
      ]
     },
     "execution_count": 13,
     "metadata": {},
     "output_type": "execute_result"
    },
    {
     "data": {
      "image/png": "[encoded data removed]",
      "text/plain": [
       "<Figure size 1080x360 with 1 Axes>"
      ]
     },
     "metadata": {
      "needs_background": "light"
     },
     "output_type": "display_data"
    }
   ],
   "source": [
    "fig, ax = plt.subplots(figsize=(15,5))\n",
    "#plt.xlim((2,10e6))\n",
    "plt.title(r\"Logistic regression with $x = erf(F^\\top c)$ and $z = sign(\\tilde{F}^\\top c)$, Gaussian $F, \\tilde{F}$, $\\lambda=0.01$\")\n",
    "#plt.ylim((0,2))\n",
    "\n",
    "replicas.plot(x='sample_complexity', y='test_error', style='-', ax=ax, label='Replicas')\n",
    "simulation.plot(x='sample_complexity', y='test_error', style='x', ax=ax, label='Simulations$')\n",
    "\n",
    "plt.ylabel(r\"test error\")\n",
    "plt.xlabel(r\"sample complexity\")\n",
    "\n",
    "plt.legend()\n",
    "#plt.savefig('../figs/ridge_teacher=sign_student=erf_lambda=0.1.pdf', bbox_inches='tight')"
   ]
  },
  {
   "cell_type": "code",
   "execution_count": 15,
   "metadata": {},
   "outputs": [
    {
     "data": {
      "text/plain": [
       "<matplotlib.legend.Legend at 0x1196ff450>"
      ]
     },
     "execution_count": 15,
     "metadata": {},
     "output_type": "execute_result"
    },
    {
     "data": {
      "image/png": "[encoded data removed]",
      "text/plain": [
       "<Figure size 1080x360 with 1 Axes>"
      ]
     },
     "metadata": {
      "needs_background": "light"
     },
     "output_type": "display_data"
    }
   ],
   "source": [
    "fig, ax = plt.subplots(figsize=(15,5))\n",
    "#plt.xlim((2,10e6))\n",
    "plt.title(r\"Logistic regression with $x = erf(F^\\top c)$ and $z = sign(\\tilde{F}^\\top c)$, Gaussian $F, \\tilde{F}$, $\\lambda=0.01$\")\n",
    "#plt.ylim((0,2))\n",
    "\n",
    "replicas.plot(x='sample_complexity', y='train_loss', style='-', ax=ax, label='Replicas')\n",
    "simulation.plot(x='sample_complexity', y='train_loss', style='x', ax=ax, label='Simulations$')\n",
    "\n",
    "plt.ylabel(r\"test error\")\n",
    "plt.xlabel(r\"sample complexity\")\n",
    "\n",
    "plt.legend()\n",
    "#plt.savefig('../figs/ridge_teacher=sign_student=erf_lambda=0.1.pdf', bbox_inches='tight')"
   ]
  }
 ],
 "metadata": {
  "kernelspec": {
   "display_name": "Python 3",
   "language": "python",
   "name": "python3"
  },
  "language_info": {
   "codemirror_mode": {
    "name": "ipython",
    "version": 3
   },
   "file_extension": ".py",
   "mimetype": "text/x-python",
   "name": "python",
   "nbconvert_exporter": "python",
   "pygments_lexer": "ipython3",
   "version": "3.7.4"
  }
 },
 "nbformat": 4,
 "nbformat_minor": 4
}
